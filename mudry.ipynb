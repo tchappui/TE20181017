{
  "nbformat": 4,
  "nbformat_minor": 0,
  "metadata": {
    "colab": {
      "name": "Problème 3 TE_1..ipynb",
      "version": "0.3.2",
      "provenance": [],
      "collapsed_sections": []
    },
    "kernelspec": {
      "name": "python3",
      "display_name": "Python 3"
    }
  },
  "cells": [
    {
      "metadata": {
        "id": "r80fs_UKpiBV",
        "colab_type": "text"
      },
      "cell_type": "markdown",
      "source": [
        "# Problème 3"
      ]
    },
    {
      "metadata": {
        "id": "TTNxl6BDqXUv",
        "colab_type": "text"
      },
      "cell_type": "markdown",
      "source": [
        "## Importer les outils\n",
        "\n",
        "On commence par importer les bibliothèques nécessaire pour résoudre le problème avec python. Il vient:"
      ]
    },
    {
      "metadata": {
        "id": "RGaXUbPlquAX",
        "colab_type": "code",
        "colab": {}
      },
      "cell_type": "code",
      "source": [
        "# vecteurs et algèbre linéaire\n",
        "import numpy as np\n",
        "\n",
        "# les outils pour visualiser\n",
        "import matplotlib.pyplot as plt\n",
        "\n",
        "# le solveur\n",
        "import scipy.integrate as solveur\n"
      ],
      "execution_count": 0,
      "outputs": []
    },
    {
      "metadata": {
        "id": "cS3aZXHgqD2C",
        "colab_type": "text"
      },
      "cell_type": "markdown",
      "source": [
        "## Définir les constantes du problème\n",
        "\n",
        "On commence à aborder le problème en définissant les constantes sur lesquelles se basent le problème."
      ]
    },
    {
      "metadata": {
        "id": "bKd0VDZTsr13",
        "colab_type": "code",
        "colab": {}
      },
      "cell_type": "code",
      "source": [
        "CA0 = 1.5 #mol/l\n",
        "CB0 = 2 #mol/l\n",
        "Vdot = 10 #l/min\n",
        "NA0 = CA0 * V #mol\n",
        "\n",
        "FA0 = CA0 * Vdot\n",
        "FB0 = CB0 * Vdot\n",
        "FC0 = 0\n",
        "FD0 = 0\n",
        "FE0 = 0\n",
        "FF0 = 0"
      ],
      "execution_count": 0,
      "outputs": []
    },
    {
      "metadata": {
        "id": "bkog40-fqKeP",
        "colab_type": "text"
      },
      "cell_type": "markdown",
      "source": [
        "## Définir les équations à résoudre\n",
        "\n",
        "Les équations à résoudre sont définies dans une fonction prenant en paramètres les variables dépendantes (premier paramètre), la variable indépendante, et les différentes constantes utilisées par les équations."
      ]
    },
    {
      "metadata": {
        "id": "-jvPApNgtSsU",
        "colab_type": "code",
        "colab": {}
      },
      "cell_type": "code",
      "source": [
        "def equations(variables, V, Vdot):\n",
        "    \"\"\"Fonction représentant les équations à résoudre.\"\"\"\n",
        "    CA, CB, CC, CD, CE, CF = variables\n",
        "    \n",
        "    r1 = 0.25 * CA * CB #mol/(l*min)\n",
        "    r2 = 0.1 * CA * CD #mol/(l*min)\n",
        "    r3 = 5 * (CB ** 2) * CC #mol/(l*min)\n",
        "    \n",
        "    RA = -r1 - 3 * r2\n",
        "    RB = -2 * r1 -r3\n",
        "    RC = r1 + r2 - 2 * r3\n",
        "    RD = r1 - 2 * r2 + r3\n",
        "    RE = r2\n",
        "    RF = r3\n",
        "    \n",
        "    dFAdV = RA\n",
        "    dFBdV = RB\n",
        "    dFCdV = RC\n",
        "    dFDdV = RD\n",
        "    dFEdV = RE\n",
        "    dFFdV = RF\n",
        "    \n",
        "    return dFAdV, dFBdV, dFCdV, dFDdV, dFEdV, dFFdV"
      ],
      "execution_count": 0,
      "outputs": []
    },
    {
      "metadata": {
        "id": "9Zw-iTDSqPi1",
        "colab_type": "text"
      },
      "cell_type": "markdown",
      "source": [
        "## Définir les conditions initiales\n",
        "\n",
        "Afin de résoudre ce type d'équations différentielles ordinaires, nous devons définir les conditions initiales du problème."
      ]
    },
    {
      "metadata": {
        "id": "rCSuW6FNu5Ge",
        "colab_type": "code",
        "colab": {}
      },
      "cell_type": "code",
      "source": [
        "conditions_initiales = [FA0, FB0, FC0, FD0, FE0, FF0]"
      ],
      "execution_count": 0,
      "outputs": []
    },
    {
      "metadata": {
        "id": "meRe51WnqiDB",
        "colab_type": "text"
      },
      "cell_type": "markdown",
      "source": [
        "## Résoudre le problème à l'aide du solveur\n",
        "\n"
      ]
    },
    {
      "metadata": {
        "id": "1LY5EI7KvFqQ",
        "colab_type": "code",
        "colab": {}
      },
      "cell_type": "code",
      "source": [
        "V = np.linspace(0, 50, 5001) # définir les bornes d'intégration\n",
        "\n",
        "# résolution du problème avec le solveur\n",
        "resultats = solveur.odeint(\n",
        "    equations, # 1er paramètre: la fonction contenant les équations à résoudre\n",
        "    conditions_initiales, # 2e param: les conditions initiales\n",
        "    V, # 3e param: les bornes d'intégration\n",
        "    (Vdot,) # 4e param (optionnel): les constantes utilisées par les équations\n",
        ")"
      ],
      "execution_count": 0,
      "outputs": []
    },
    {
      "metadata": {
        "id": "VxLj4LcmeTB3",
        "colab_type": "text"
      },
      "cell_type": "markdown",
      "source": [
        "On va récupérer les vecteurs associés à chaque variable de manière à pouvoir éventuellement les afficher séparemment."
      ]
    },
    {
      "metadata": {
        "id": "UCi8ESAXahIE",
        "colab_type": "code",
        "colab": {}
      },
      "cell_type": "code",
      "source": [
        "FA = resultats[:,0]\n",
        "FB = resultats[:,1]\n",
        "FC = resultats[:,2]\n",
        "FD = resultats[:,3]\n",
        "FE = resultats[:,4]\n",
        "FF = resultats[:,5]"
      ],
      "execution_count": 0,
      "outputs": []
    },
    {
      "metadata": {
        "id": "yOArIzNr6dv4",
        "colab_type": "text"
      },
      "cell_type": "markdown",
      "source": [
        "##Taux de conversion"
      ]
    },
    {
      "metadata": {
        "id": "UNG64vE56cGg",
        "colab_type": "code",
        "colab": {
          "base_uri": "https://localhost:8080/",
          "height": 68
        },
        "outputId": "b05201c7-4f1e-49fd-cad2-65fb3a5259a0"
      },
      "cell_type": "code",
      "source": [
        "CA = FA / Vdot\n",
        "NA = CA * V\n",
        "XA = (NA0 - NA)/NA0\n",
        "XA[V == 50] * 100"
      ],
      "execution_count": 111,
      "outputs": [
        {
          "output_type": "stream",
          "text": [
            "/usr/local/lib/python3.6/dist-packages/ipykernel_launcher.py:3: RuntimeWarning: invalid value encountered in true_divide\n",
            "  This is separate from the ipykernel package so we can avoid doing imports until\n"
          ],
          "name": "stderr"
        },
        {
          "output_type": "execute_result",
          "data": {
            "text/plain": [
              "array([100.])"
            ]
          },
          "metadata": {
            "tags": []
          },
          "execution_count": 111
        }
      ]
    },
    {
      "metadata": {
        "id": "W_XmlF5W7qiC",
        "colab_type": "text"
      },
      "cell_type": "markdown",
      "source": [
        "## Concentration de C"
      ]
    },
    {
      "metadata": {
        "id": "NZb5aqIf7xW-",
        "colab_type": "code",
        "colab": {}
      },
      "cell_type": "code",
      "source": [
        "CC = FC/Vdot"
      ],
      "execution_count": 0,
      "outputs": []
    },
    {
      "metadata": {
        "id": "MG3jzyMFqokZ",
        "colab_type": "text"
      },
      "cell_type": "markdown",
      "source": [
        "## Visualiser les résultats\n",
        "\n"
      ]
    },
    {
      "metadata": {
        "id": "t61vp4dhwVN6",
        "colab_type": "code",
        "outputId": "f491a540-7607-4740-f9ce-ecc00ac67f24",
        "colab": {
          "base_uri": "https://localhost:8080/",
          "height": 361
        }
      },
      "cell_type": "code",
      "source": [
        "plt.figure(1)\n",
        "plt.plot(V, FA, V, FB, V, FC, V, FD, V, FE, V, FF)\n",
        "plt.xlabel('V (l)')\n",
        "plt.ylabel('Fi')\n",
        "plt.legend(['FA','FB','FC','FD', 'FE', 'FF'])\n",
        "plt.show()"
      ],
      "execution_count": 107,
      "outputs": [
        {
          "output_type": "display_data",
          "data": {
            "image/png": "[encoded data removed]",
            "text/plain": [
              "<matplotlib.figure.Figure at 0x7f44fcc53b00>"
            ]
          },
          "metadata": {
            "tags": []
          }
        }
      ]
    },
    {
      "metadata": {
        "id": "w6stAMCIa_9y",
        "colab_type": "code",
        "outputId": "b5d6dc9d-b182-47a5-ed45-b32ff4d293fb",
        "colab": {
          "base_uri": "https://localhost:8080/",
          "height": 361
        }
      },
      "cell_type": "code",
      "source": [
        "plt.figure(2)\n",
        "plt.plot(V, XA )\n",
        "plt.xlabel('V (l)')\n",
        "plt.ylabel('XA')\n",
        "plt.show()"
      ],
      "execution_count": 108,
      "outputs": [
        {
          "output_type": "display_data",
          "data": {
            "image/png": "[encoded data removed]",
            "text/plain": [
              "<matplotlib.figure.Figure at 0x7f44ff6f85c0>"
            ]
          },
          "metadata": {
            "tags": []
          }
        }
      ]
    },
    {
      "metadata": {
        "id": "ssN8i3TB7I3M",
        "colab_type": "code",
        "colab": {
          "base_uri": "https://localhost:8080/",
          "height": 361
        },
        "outputId": "dad3c258-96ea-4d85-a3bb-eac216c98c62"
      },
      "cell_type": "code",
      "source": [
        "plt.figure(3)\n",
        "plt.plot(V, CC )\n",
        "plt.xlabel('V (l)')\n",
        "plt.ylabel('CC')\n",
        "plt.show()"
      ],
      "execution_count": 109,
      "outputs": [
        {
          "output_type": "display_data",
          "data": {
            "image/png": "[encoded data removed]",
            "text/plain": [
              "<matplotlib.figure.Figure at 0x7f44fca23fd0>"
            ]
          },
          "metadata": {
            "tags": []
          }
        }
      ]
    },
    {
      "metadata": {
        "id": "hgU52TPt_BKJ",
        "colab_type": "code",
        "colab": {
          "base_uri": "https://localhost:8080/",
          "height": 34
        },
        "outputId": "fe7ec6a1-2319-4b8e-9df0-8a78b7bdd01d"
      },
      "cell_type": "code",
      "source": [
        "CC[V == 50]"
      ],
      "execution_count": 110,
      "outputs": [
        {
          "output_type": "execute_result",
          "data": {
            "text/plain": [
              "array([-3.93675587e-15])"
            ]
          },
          "metadata": {
            "tags": []
          },
          "execution_count": 110
        }
      ]
    },
    {
      "metadata": {
        "id": "pAfr6Ohi_FiF",
        "colab_type": "code",
        "colab": {}
      },
      "cell_type": "code",
      "source": [
        ""
      ],
      "execution_count": 0,
      "outputs": []
    }
  ]
}