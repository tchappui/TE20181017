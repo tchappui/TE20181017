{
  "nbformat": 4,
  "nbformat_minor": 0,
  "metadata": {
    "colab": {
      "name": "Brunisholz_Maxime_problème3.ipynb",
      "version": "0.3.2",
      "provenance": [],
      "collapsed_sections": []
    },
    "kernelspec": {
      "name": "python3",
      "display_name": "Python 3"
    }
  },
  "cells": [
    {
      "metadata": {
        "id": "SDDN3lyPq8bk",
        "colab_type": "text"
      },
      "cell_type": "markdown",
      "source": [
        "### 1. Importer les outils"
      ]
    },
    {
      "metadata": {
        "id": "Oh2n23aspbK_",
        "colab_type": "code",
        "colab": {}
      },
      "cell_type": "code",
      "source": [
        "# vecteurs et algèbre linéaire\n",
        "import numpy as np\n",
        "\n",
        "# les outils pour visualiser\n",
        "import matplotlib.pyplot as plt\n",
        "\n",
        "# le solveur\n",
        "import scipy.integrate as solveur"
      ],
      "execution_count": 0,
      "outputs": []
    },
    {
      "metadata": {
        "id": "apjLxn_drE3g",
        "colab_type": "text"
      },
      "cell_type": "markdown",
      "source": [
        "### 2.Définir les constantes du problème"
      ]
    },
    {
      "metadata": {
        "id": "DFVLMPyKst5L",
        "colab_type": "code",
        "colab": {}
      },
      "cell_type": "code",
      "source": [
        "FA0=1.5*10 # mol/min\n",
        "FB0=2*10 # mol/min\n",
        "FC0=0 # mol/min\n",
        "FD0=0 # mol/min\n",
        "FE0=0 # mol/min\n",
        "FF0=0 # mol/min\n",
        "\n",
        "Vdot=10 #l/min\n",
        "V=50 #l"
      ],
      "execution_count": 0,
      "outputs": []
    },
    {
      "metadata": {
        "id": "-4bS0FjerNxG",
        "colab_type": "text"
      },
      "cell_type": "markdown",
      "source": [
        "### 3. Définir les équations à résoudre"
      ]
    },
    {
      "metadata": {
        "id": "3fa9kBbOtN7V",
        "colab_type": "code",
        "colab": {}
      },
      "cell_type": "code",
      "source": [
        "def equations(variables, V):\n",
        "  FA, FB, FC, FD, FE, FF = variables\n",
        "  \n",
        "  r1= 0.25*FA/Vdot*FB/Vdot\n",
        "  r2= 0.1*FA/Vdot*FD/Vdot\n",
        "  r3= 5*FC/Vdot*(FB/Vdot)**2\n",
        "    \n",
        "  RA= -r1-3*r2\n",
        "  RB= -2*r1-r3\n",
        "  RC= r1+r2-2*r3\n",
        "  RD= r1-2*r2+r3\n",
        "  RE= r2\n",
        "  RF= r3\n",
        "  \n",
        "  dFAdt=RA\n",
        "  dFBdt=RB\n",
        "  dFCdt=RC\n",
        "  dFDdt=RD\n",
        "  dFEdt=RE\n",
        "  dFFdt=RF\n",
        "  \n",
        "  return dFAdt,dFBdt,dFCdt,dFDdt,dFEdt,dFFdt"
      ],
      "execution_count": 0,
      "outputs": []
    },
    {
      "metadata": {
        "id": "3vB4vk8ZrLKC",
        "colab_type": "text"
      },
      "cell_type": "markdown",
      "source": [
        "### 4. Définir les conditions initiales"
      ]
    },
    {
      "metadata": {
        "id": "mABgQpbdtOwn",
        "colab_type": "code",
        "colab": {}
      },
      "cell_type": "code",
      "source": [
        "conditions_initiales = [FA0,FB0,FC0,FD0,FE0,FF0] #mol/min"
      ],
      "execution_count": 0,
      "outputs": []
    },
    {
      "metadata": {
        "id": "zq5nun00rvbY",
        "colab_type": "text"
      },
      "cell_type": "markdown",
      "source": [
        "### 5. Résoudre le problème à l'aide du solveur"
      ]
    },
    {
      "metadata": {
        "id": "Re70j1UVtPOv",
        "colab_type": "code",
        "colab": {}
      },
      "cell_type": "code",
      "source": [
        "V = np.linspace(0, 50, 51) #définir les bornes d'intégrations\n",
        "resultats = solveur.odeint(equations, conditions_initiales, V)"
      ],
      "execution_count": 0,
      "outputs": []
    },
    {
      "metadata": {
        "id": "m5IzRRQByk_p",
        "colab_type": "code",
        "colab": {}
      },
      "cell_type": "code",
      "source": [
        "FB=resultats[:,1]\n",
        "FA=resultats[:,0]\n",
        "FC=resultats[:,2]\n",
        "FD=resultats[:,3]\n",
        "FE=resultats[:,4]\n",
        "FF=resultats[:,5]"
      ],
      "execution_count": 0,
      "outputs": []
    },
    {
      "metadata": {
        "id": "4mVTQODMylrU",
        "colab_type": "code",
        "colab": {}
      },
      "cell_type": "code",
      "source": [
        "x=(FA0-FA)/FA0"
      ],
      "execution_count": 0,
      "outputs": []
    },
    {
      "metadata": {
        "id": "Lbufc19cr3b8",
        "colab_type": "text"
      },
      "cell_type": "markdown",
      "source": [
        "### 6. Visualiser les résultats"
      ]
    },
    {
      "metadata": {
        "id": "P5y7jnzZtPvD",
        "colab_type": "code",
        "colab": {}
      },
      "cell_type": "code",
      "source": [
        "plt.plot(V, FB, V,FA, V,FC, V,FD, V,FE, V,FF)\n",
        "plt.xlabel('V')\n",
        "plt.ylabel('F')\n",
        "plt.legend(['FB','FA','FC','FD', 'FE', 'FF'])\n",
        "plt.show()"
      ],
      "execution_count": 0,
      "outputs": []
    },
    {
      "metadata": {
        "id": "BGDqY3NOy9o2",
        "colab_type": "code",
        "colab": {}
      },
      "cell_type": "code",
      "source": [
        "x [V<50][-1]"
      ],
      "execution_count": 0,
      "outputs": []
    },
    {
      "metadata": {
        "id": "0znlD3IGzIdH",
        "colab_type": "code",
        "colab": {}
      },
      "cell_type": "code",
      "source": [
        "FC[V<50][-1]/Vdot"
      ],
      "execution_count": 0,
      "outputs": []
    }
  ]
}