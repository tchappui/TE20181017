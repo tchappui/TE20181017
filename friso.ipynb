{
  "nbformat": 4,
  "nbformat_minor": 0,
  "metadata": {
    "colab": {
      "name": "Problème3examen1.ipynb",
      "version": "0.3.2",
      "provenance": [],
      "collapsed_sections": []
    },
    "kernelspec": {
      "name": "python3",
      "display_name": "Python 3"
    }
  },
  "cells": [
    {
      "metadata": {
        "id": "6_Eaq-1ptBgy",
        "colab_type": "text"
      },
      "cell_type": "markdown",
      "source": [
        "# Importer les outils"
      ]
    },
    {
      "metadata": {
        "id": "mOd58uL5s-6W",
        "colab_type": "code",
        "colab": {}
      },
      "cell_type": "code",
      "source": [
        "import numpy as np\n",
        "import matplotlib.pyplot as plt\n",
        "import scipy.integrate as solveur"
      ],
      "execution_count": 0,
      "outputs": []
    },
    {
      "metadata": {
        "id": "J7GrdU6frm-Y",
        "colab_type": "text"
      },
      "cell_type": "markdown",
      "source": [
        "# Définir les constantes du problème"
      ]
    },
    {
      "metadata": {
        "id": "3sXGfFU_Rymm",
        "colab_type": "code",
        "colab": {}
      },
      "cell_type": "code",
      "source": [
        "k1 = 0.25\n",
        "k2 = 0.1\n",
        "k3 = 5\n",
        "CA0 = 1.5\n",
        "CB0 = 2\n",
        "Vdot = 10"
      ],
      "execution_count": 0,
      "outputs": []
    },
    {
      "metadata": {
        "id": "7FgTIFM_sJj7",
        "colab_type": "text"
      },
      "cell_type": "markdown",
      "source": [
        "# Définir les équations à résoudre"
      ]
    },
    {
      "metadata": {
        "id": "4O3qebVHsECE",
        "colab_type": "code",
        "colab": {}
      },
      "cell_type": "code",
      "source": [
        "def equations(variables,V, k1, k2, k3, Vdot):\n",
        "  FA, FB, FC, FD, FE, FF = variables # attention l'ordre est important !\n",
        "  \n",
        "  CA = FA / Vdot\n",
        "  CB = FB / Vdot\n",
        "  CC = FC / Vdot\n",
        "  CD = FD / Vdot\n",
        "  CE = FE / Vdot\n",
        "  CF = FF / Vdot\n",
        "  \n",
        "  r1 = k1 * CA * CB\n",
        "  r2 = k2 * CA * CD\n",
        "  r3 = k3 * CB**2 * CC\n",
        "  \n",
        "  RA = -r1-3*r2\n",
        "  RB = -2*r1-r3\n",
        "  RC = r1+r2-2*r3\n",
        "  RD = r1-2*r2+r3\n",
        "  RE = r2\n",
        "  RF = r3\n",
        "  \n",
        "  dFAdV = RA\n",
        "  dFBdV = RB\n",
        "  dFCdV = RC\n",
        "  dFDdV = RD\n",
        "  dFEdV = RE\n",
        "  dFFdV = RF\n",
        "  \n",
        "  return dFAdV, dFBdV, dFCdV, dFDdV, dFEdV, dFFdV # attention l'ordre est important !"
      ],
      "execution_count": 0,
      "outputs": []
    },
    {
      "metadata": {
        "id": "bOtBUpL-sSrc",
        "colab_type": "text"
      },
      "cell_type": "markdown",
      "source": [
        "# Définir les conditions initiales"
      ]
    },
    {
      "metadata": {
        "id": "wSvdbRFRsPiG",
        "colab_type": "code",
        "colab": {}
      },
      "cell_type": "code",
      "source": [
        "conditions_initiales = [CA0 * Vdot, CB0 * Vdot, 0, 0, 0, 0] # attention l'ordre est important !"
      ],
      "execution_count": 0,
      "outputs": []
    },
    {
      "metadata": {
        "id": "sOtrr-RnuOf7",
        "colab_type": "text"
      },
      "cell_type": "markdown",
      "source": [
        "# Résoudre le problème à l'aide du solveur"
      ]
    },
    {
      "metadata": {
        "id": "EwNfpo7CanrL",
        "colab_type": "code",
        "colab": {}
      },
      "cell_type": "code",
      "source": [
        "V = np.linspace(0, 50, 51) # définir les bornes d'intégration\n",
        "resultats = solveur.odeint(equations,conditions_initiales,V, (k1, k2, k3, Vdot)) # dans le cas où on a qu'une constante il faut écrire (k,) => Tuple"
      ],
      "execution_count": 0,
      "outputs": []
    },
    {
      "metadata": {
        "id": "pbjt9iE2a4mn",
        "colab_type": "code",
        "colab": {}
      },
      "cell_type": "code",
      "source": [
        "FA = resultats[:,0] # récupérer toutes les lignes \":\" de la première colonne \"indice 0\"\n",
        "FB = resultats[:,1]\n",
        "FC = resultats[:,2]\n",
        "FD = resultats[:,3]\n",
        "FE = resultats[:,4]\n",
        "FF = resultats[:,5]"
      ],
      "execution_count": 0,
      "outputs": []
    },
    {
      "metadata": {
        "id": "fBxsLdTFRIve",
        "colab_type": "text"
      },
      "cell_type": "markdown",
      "source": [
        "taux de conversion"
      ]
    },
    {
      "metadata": {
        "id": "aiYSbnAjyLFM",
        "colab_type": "code",
        "colab": {}
      },
      "cell_type": "code",
      "source": [
        "FA0 = CA0 * Vdot\n",
        "X = 1 -(FA/FA0)"
      ],
      "execution_count": 0,
      "outputs": []
    },
    {
      "metadata": {
        "id": "agZyJDDyx4SS",
        "colab_type": "text"
      },
      "cell_type": "markdown",
      "source": [
        "# Visualiser les résultats"
      ]
    },
    {
      "metadata": {
        "id": "08SzF9gdbLec",
        "colab_type": "code",
        "outputId": "b08cbf1c-f593-448f-dcab-092e79dd59a4",
        "colab": {
          "base_uri": "https://localhost:8080/",
          "height": 361
        }
      },
      "cell_type": "code",
      "source": [
        "plt.plot(V, X)\n",
        "plt.xlabel('V')\n",
        "plt.ylabel('X (-)') # X est sans unité\n",
        "plt.legend(['X'])\n",
        "plt.show()"
      ],
      "execution_count": 92,
      "outputs": [
        {
          "output_type": "display_data",
          "data": {
            "image/png": "[encoded data removed]",
            "text/plain": [
              "<matplotlib.figure.Figure at 0x7f47fe51de48>"
            ]
          },
          "metadata": {
            "tags": []
          }
        }
      ]
    },
    {
      "metadata": {
        "id": "7V5zj4qyy_ZW",
        "colab_type": "code",
        "outputId": "16f7575f-d0e1-484b-c84e-c395dcecc469",
        "colab": {
          "base_uri": "https://localhost:8080/",
          "height": 34
        }
      },
      "cell_type": "code",
      "source": [
        "X[V < 50][-1]"
      ],
      "execution_count": 93,
      "outputs": [
        {
          "output_type": "execute_result",
          "data": {
            "text/plain": [
              "0.817780327470462"
            ]
          },
          "metadata": {
            "tags": []
          },
          "execution_count": 93
        }
      ]
    },
    {
      "metadata": {
        "id": "1d2uYq1MOvwF",
        "colab_type": "code",
        "outputId": "f1c3fe05-2bd5-48ec-8a51-e55cbc278448",
        "colab": {
          "base_uri": "https://localhost:8080/",
          "height": 361
        }
      },
      "cell_type": "code",
      "source": [
        "CA = FA / Vdot\n",
        "CB = FB / Vdot\n",
        "CC = FC / Vdot\n",
        "CD = FD / Vdot\n",
        "CE = FE / Vdot\n",
        "CF = FF / Vdot\n",
        "\n",
        "plt.plot(V, CA, V, CB, V, CC, V, CD, V, CE, V, CF)\n",
        "plt.xlabel('V')\n",
        "plt.ylabel('CA,CB,CC,CD,CE,CF')\n",
        "plt.legend(['CA', 'CB', 'CC', 'CD', 'CE', 'CF'])\n",
        "plt.show()"
      ],
      "execution_count": 94,
      "outputs": [
        {
          "output_type": "display_data",
          "data": {
            "image/png": "[encoded data removed]",
            "text/plain": [
              "<matplotlib.figure.Figure at 0x7f47fe4d0fd0>"
            ]
          },
          "metadata": {
            "tags": []
          }
        }
      ]
    },
    {
      "metadata": {
        "id": "Eo3j3FpMdFT-",
        "colab_type": "code",
        "outputId": "2384b826-535d-471e-e7c1-930bcd14fc3b",
        "colab": {
          "base_uri": "https://localhost:8080/",
          "height": 34
        }
      },
      "cell_type": "code",
      "source": [
        "CC[V < 50][-1]"
      ],
      "execution_count": 95,
      "outputs": [
        {
          "output_type": "execute_result",
          "data": {
            "text/plain": [
              "0.06107795531995793"
            ]
          },
          "metadata": {
            "tags": []
          },
          "execution_count": 95
        }
      ]
    }
  ]
}