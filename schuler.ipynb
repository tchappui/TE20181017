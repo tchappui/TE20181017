{
  "nbformat": 4,
  "nbformat_minor": 0,
  "metadata": {
    "colab": {
      "name": "TE_20182017.ipynb",
      "version": "0.3.2",
      "provenance": [],
      "collapsed_sections": []
    },
    "kernelspec": {
      "name": "python3",
      "display_name": "Python 3"
    }
  },
  "cells": [
    {
      "metadata": {
        "id": "l5EIfhigq--K",
        "colab_type": "text"
      },
      "cell_type": "markdown",
      "source": [
        ""
      ]
    },
    {
      "metadata": {
        "id": "Sjf9nPk7rFhF",
        "colab_type": "text"
      },
      "cell_type": "markdown",
      "source": [
        "#Importer les outils"
      ]
    },
    {
      "metadata": {
        "id": "lwPszYtmrQt0",
        "colab_type": "code",
        "colab": {}
      },
      "cell_type": "code",
      "source": [
        "#vecteur et algèbre linéaire\n",
        "import numpy as np\n",
        "#les outils pour visualiser\n",
        "import matplotlib.pyplot as plt\n",
        "#le solveur\n",
        "import scipy.integrate as solveur\n"
      ],
      "execution_count": 0,
      "outputs": []
    },
    {
      "metadata": {
        "id": "oryPoW5irrLR",
        "colab_type": "text"
      },
      "cell_type": "markdown",
      "source": [
        "#Définir les cst du problème"
      ]
    },
    {
      "metadata": {
        "id": "FsLn-TjEssxR",
        "colab_type": "code",
        "colab": {}
      },
      "cell_type": "code",
      "source": [
        "\n",
        "Vdot=10#L/min\n",
        "Fa0=15#mol*L-1*min-1\n",
        "Fb0=20#mol*L-1*min-1\n",
        "Fc0=0#mol*L-1*min-1\n",
        "Fd0=0#mol*L-1*min-1\n",
        "Fe0=0#mol*L-1*min-1\n",
        "Ff0=0#mol*L-1*min-1\n"
      ],
      "execution_count": 0,
      "outputs": []
    },
    {
      "metadata": {
        "id": "brm5XncLrutJ",
        "colab_type": "text"
      },
      "cell_type": "markdown",
      "source": [
        "#Définir les équations à résoudre"
      ]
    },
    {
      "metadata": {
        "id": "9xguEHQptTlQ",
        "colab_type": "code",
        "colab": {}
      },
      "cell_type": "code",
      "source": [
        "def equations(variables,t, Vdot): \n",
        "  Fa ,Fb, Fc, Fd, Fe, Ff = variables\n",
        "  \n",
        "  Ca = Fa/Vdot\n",
        "  Cb = Fb/Vdot\n",
        "  Cc = Fc/Vdot\n",
        "  Cd = Fd/Vdot\n",
        "  Ce = Fe/Vdot\n",
        "  Cf = Ff/Vdot\n",
        "  \n",
        "  r1=0.25*Ca*Cb#mol*L-1*min-1\n",
        "  r2=0.1*Ca*Cd#mol*L-1*min-1\n",
        "  r3=5*(Cb**2)*Cc#mol*L-1*min-1\n",
        "  \n",
        "  Ra=-r1-3*r2\n",
        "  Rb=-2*r1-r3\n",
        "  Rc=r1+r2-2*r3\n",
        "  Rd=r1-2*r2+r3\n",
        "  Re=r2\n",
        "  Rf=r3\n",
        "  \n",
        "  dFadV=Ra\n",
        "  dFbdV=Rb\n",
        "  dFcdV=Rc\n",
        "  dFddV=Rd\n",
        "  dFedV=Re\n",
        "  dFfdV=Rf\n",
        "  return dFadV, dFbdV, dFcdV, dFddV, dFedV, dFfdV"
      ],
      "execution_count": 0,
      "outputs": []
    },
    {
      "metadata": {
        "id": "-C5Kol9hr0eY",
        "colab_type": "text"
      },
      "cell_type": "markdown",
      "source": [
        "#Définir les conditions initiales"
      ]
    },
    {
      "metadata": {
        "id": "Y2qoGRmIu-z5",
        "colab_type": "code",
        "colab": {}
      },
      "cell_type": "code",
      "source": [
        "conditions_initiales=[Fa0, Fb0, Fc0, Fd0, Fe0, Ff0]"
      ],
      "execution_count": 0,
      "outputs": []
    },
    {
      "metadata": {
        "id": "42GFkSO0r4pi",
        "colab_type": "text"
      },
      "cell_type": "markdown",
      "source": [
        "#Résoudre le problème à l'aide du solveur"
      ]
    },
    {
      "metadata": {
        "id": "dn-3-69mvG7R",
        "colab_type": "code",
        "colab": {}
      },
      "cell_type": "code",
      "source": [
        "V = np.arange(0,50,1) #on définit les borne d'intégration\n",
        "resultats = solveur.odeint(equations, conditions_initiales, V, (Vdot,)) "
      ],
      "execution_count": 0,
      "outputs": []
    },
    {
      "metadata": {
        "id": "4Azknj1wpHJa",
        "colab_type": "text"
      },
      "cell_type": "markdown",
      "source": [
        "On va récupérer les valeurs pour les équations Fa et Fc"
      ]
    },
    {
      "metadata": {
        "id": "pDQuhsv7-_-E",
        "colab_type": "code",
        "colab": {}
      },
      "cell_type": "code",
      "source": [
        ""
      ],
      "execution_count": 0,
      "outputs": []
    },
    {
      "metadata": {
        "id": "EO9RkNsRalsb",
        "colab_type": "code",
        "colab": {}
      },
      "cell_type": "code",
      "source": [
        "Fa=resultats[:,0]\n",
        "Fc=resultats[:,2]"
      ],
      "execution_count": 0,
      "outputs": []
    },
    {
      "metadata": {
        "id": "MTP33JyWyXFI",
        "colab_type": "code",
        "colab": {}
      },
      "cell_type": "code",
      "source": [
        "X=1-((Fa/Vdot)/(Fa0/Vdot))\n"
      ],
      "execution_count": 0,
      "outputs": []
    },
    {
      "metadata": {
        "id": "5lOtGe3qr_Lo",
        "colab_type": "text"
      },
      "cell_type": "markdown",
      "source": [
        "#Visualiser les résultats"
      ]
    },
    {
      "metadata": {
        "id": "0WzyYXK9wkOC",
        "colab_type": "code",
        "outputId": "901da481-60e7-4031-9aaf-d8e1566721d3",
        "colab": {
          "base_uri": "https://localhost:8080/",
          "height": 359
        }
      },
      "cell_type": "code",
      "source": [
        "plt.figure(1)\n",
        "plt.plot(V,X)\n",
        "plt.xlabel(\"V\")\n",
        "plt.ylabel(\"X(-)\")\n",
        "plt.legend([\"X\"]) #\n",
        "plt.show()\n"
      ],
      "execution_count": 56,
      "outputs": [
        {
          "output_type": "display_data",
          "data": {
            "image/png": "[encoded data removed]",
            "text/plain": [
              "<matplotlib.figure.Figure at 0x7f429edab4a8>"
            ]
          },
          "metadata": {
            "tags": []
          }
        }
      ]
    },
    {
      "metadata": {
        "id": "2i4QF9T0g1Ky",
        "colab_type": "code",
        "outputId": "aac3362b-ea3a-4df0-a87c-6561eca4d9c3",
        "colab": {
          "base_uri": "https://localhost:8080/",
          "height": 32
        }
      },
      "cell_type": "code",
      "source": [
        "X[V<50][-1]#taux de conversion lorsque V=50L"
      ],
      "execution_count": 57,
      "outputs": [
        {
          "output_type": "execute_result",
          "data": {
            "text/plain": [
              "0.817780327470462"
            ]
          },
          "metadata": {
            "tags": []
          },
          "execution_count": 57
        }
      ]
    },
    {
      "metadata": {
        "id": "Byh-zAJgRKvC",
        "colab_type": "code",
        "outputId": "22444987-9630-495e-8338-c1e36233d136",
        "colab": {
          "base_uri": "https://localhost:8080/",
          "height": 32
        }
      },
      "cell_type": "code",
      "source": [
        "Cc=Fc[V<50][-1]/Vdot #la concentration de C lorsque le volume est à 50L , mol*l-1\n",
        "Cc"
      ],
      "execution_count": 58,
      "outputs": [
        {
          "output_type": "execute_result",
          "data": {
            "text/plain": [
              "0.06107795531995793"
            ]
          },
          "metadata": {
            "tags": []
          },
          "execution_count": 58
        }
      ]
    },
    {
      "metadata": {
        "id": "smgwTabXAe0y",
        "colab_type": "code",
        "colab": {}
      },
      "cell_type": "code",
      "source": [
        ""
      ],
      "execution_count": 0,
      "outputs": []
    }
  ]
}