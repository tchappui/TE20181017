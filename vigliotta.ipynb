{
  "nbformat": 4,
  "nbformat_minor": 0,
  "metadata": {
    "colab": {
      "name": "exercice 3 test.ipynb",
      "version": "0.3.2",
      "provenance": [],
      "collapsed_sections": [],
      "toc_visible": true
    },
    "kernelspec": {
      "name": "python3",
      "display_name": "Python 3"
    }
  },
  "cells": [
    {
      "metadata": {
        "id": "3CxmKHZ7aKv-",
        "colab_type": "text"
      },
      "cell_type": "markdown",
      "source": [
        "#importer les outils"
      ]
    },
    {
      "metadata": {
        "id": "_Qu5VGYcZ-P6",
        "colab_type": "code",
        "colab": {}
      },
      "cell_type": "code",
      "source": [
        "import numpy as np\n",
        "import math\n",
        "import matplotlib.pyplot as plt\n",
        "from scipy.integrate import odeint"
      ],
      "execution_count": 0,
      "outputs": []
    },
    {
      "metadata": {
        "id": "xduANAxBbjHy",
        "colab_type": "text"
      },
      "cell_type": "markdown",
      "source": [
        "#définir les constantes du problème"
      ]
    },
    {
      "metadata": {
        "id": "Ns9APaChaJgt",
        "colab_type": "code",
        "colab": {}
      },
      "cell_type": "code",
      "source": [
        "#constantes\n",
        "V = 50#l\n",
        "vdot = 10 #l/min\n",
        "CA0 = 1.5#mol/l\n",
        "CB0 = 2#mol/l"
      ],
      "execution_count": 0,
      "outputs": []
    },
    {
      "metadata": {
        "id": "bEWadLU8aKOp",
        "colab_type": "text"
      },
      "cell_type": "markdown",
      "source": [
        "#définir les equations à résoudre"
      ]
    },
    {
      "metadata": {
        "id": "0swpVLt8aJ_Y",
        "colab_type": "code",
        "colab": {}
      },
      "cell_type": "code",
      "source": [
        "def bilans(y, v, CA0,CB0, vdot):\n",
        "    CA,CB,CC, CD, CE, CF = y\n",
        "    r1 = 0.25*CA*CB\n",
        "    r2 = 0.1*CA*CD\n",
        "    r3 = 5*(CB**2)*CC\n",
        "    FA0 = CA0*vdot\n",
        "    FB0 = CB0*vdot\n",
        "    \n",
        "    \n",
        "    dFAdv = CA0*vdot\n",
        "    dFBdv = CB0*vdot\n",
        "    dFCdv = 0\n",
        "    dFDdv = 0\n",
        "    dFEdv = 0\n",
        "    dFFdv = 0\n",
        "    RA = -r1-3*r2\n",
        "    RB = -2*r1-r3\n",
        "    RC = r1+r2-2*r3\n",
        "    RD = r1-2*r2+r3\n",
        "    RE =r2\n",
        "    RF =r3\n",
        "    return dFAdv, dFBdv, dFCdv , dFDdv, dFEdv, dFFdv"
      ],
      "execution_count": 0,
      "outputs": []
    },
    {
      "metadata": {
        "id": "mRUcniNXbzHw",
        "colab_type": "text"
      },
      "cell_type": "markdown",
      "source": [
        "#définir les conditions initiales"
      ]
    },
    {
      "metadata": {
        "id": "IBDFkrx6aKiL",
        "colab_type": "code",
        "colab": {}
      },
      "cell_type": "code",
      "source": [
        "y0 = [CA0,CB0,vdot,0,0,0]"
      ],
      "execution_count": 0,
      "outputs": []
    },
    {
      "metadata": {
        "id": "HSfAEOv2b4f6",
        "colab_type": "text"
      },
      "cell_type": "markdown",
      "source": [
        "#résoudre le problème à l'aide du solveur"
      ]
    },
    {
      "metadata": {
        "id": "ZJ4rvMecaa9L",
        "colab_type": "code",
        "colab": {}
      },
      "cell_type": "code",
      "source": [
        "v = np.linspace(0,50,51)\n",
        "profils = odeint(bilans, y0,v,(CA0,CB0,vdot))\n",
        "\n"
      ],
      "execution_count": 0,
      "outputs": []
    },
    {
      "metadata": {
        "id": "IlXt1q3GabHt",
        "colab_type": "code",
        "outputId": "6233a645-1fc7-4230-ca17-0979dd985db9",
        "colab": {
          "base_uri": "https://localhost:8080/",
          "height": 361
        }
      },
      "cell_type": "code",
      "source": [
        "plt.plot(v,profils) #ploter les courbes\n",
        "plt.xlabel('v (l)')\n",
        "plt.ylabel('CA,CB,CC,CD,CE,CF')\n",
        "plt.legend(['CA','CB','CC','CD','CE','CF'])\n",
        "plt.show()"
      ],
      "execution_count": 61,
      "outputs": [
        {
          "output_type": "display_data",
          "data": {
            "image/png": "[encoded data removed]",
            "text/plain": [
              "<matplotlib.figure.Figure at 0x7feae3e627b8>"
            ]
          },
          "metadata": {
            "tags": []
          }
        }
      ]
    },
    {
      "metadata": {
        "id": "HKRWTRCICfQ3",
        "colab_type": "code",
        "colab": {
          "base_uri": "https://localhost:8080/",
          "height": 163
        },
        "outputId": "962416fb-19e4-4c0f-9d36-deebcdc61633"
      },
      "cell_type": "code",
      "source": [
        "CC==[500]"
      ],
      "execution_count": 44,
      "outputs": [
        {
          "output_type": "error",
          "ename": "NameError",
          "evalue": "ignored",
          "traceback": [
            "\u001b[0;31m---------------------------------------------------------------------------\u001b[0m",
            "\u001b[0;31mNameError\u001b[0m                                 Traceback (most recent call last)",
            "\u001b[0;32m<ipython-input-44-cdeca5e243ab>\u001b[0m in \u001b[0;36m<module>\u001b[0;34m()\u001b[0m\n\u001b[0;32m----> 1\u001b[0;31m \u001b[0mCC\u001b[0m\u001b[0;34m==\u001b[0m\u001b[0;34m[\u001b[0m\u001b[0;36m500\u001b[0m\u001b[0;34m]\u001b[0m\u001b[0;34m\u001b[0m\u001b[0m\n\u001b[0m",
            "\u001b[0;31mNameError\u001b[0m: name 'CC' is not defined"
          ]
        }
      ]
    }
  ]
}