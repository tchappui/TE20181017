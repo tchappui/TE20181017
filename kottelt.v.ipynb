{
  "nbformat": 4,
  "nbformat_minor": 0,
  "metadata": {
    "colab": {
      "name": "TE_20181017.ipynb",
      "version": "0.3.2",
      "provenance": [],
      "collapsed_sections": []
    },
    "kernelspec": {
      "name": "python3",
      "display_name": "Python 3"
    }
  },
  "cells": [
    {
      "metadata": {
        "id": "-U7pzeBsrD29",
        "colab_type": "text"
      },
      "cell_type": "markdown",
      "source": [
        "## Test 1"
      ]
    },
    {
      "metadata": {
        "id": "7rhob_LrrUus",
        "colab_type": "text"
      },
      "cell_type": "markdown",
      "source": [
        "## 1) Importer les outils"
      ]
    },
    {
      "metadata": {
        "id": "-MPQCLEQsK5o",
        "colab_type": "code",
        "colab": {}
      },
      "cell_type": "code",
      "source": [
        "import numpy as np"
      ],
      "execution_count": 0,
      "outputs": []
    },
    {
      "metadata": {
        "id": "PxAtChmPsQPE",
        "colab_type": "code",
        "colab": {}
      },
      "cell_type": "code",
      "source": [
        "import matplotlib.pyplot as plt"
      ],
      "execution_count": 0,
      "outputs": []
    },
    {
      "metadata": {
        "id": "ABgcvaJqsW0w",
        "colab_type": "code",
        "colab": {}
      },
      "cell_type": "code",
      "source": [
        "import scipy.integrate as solveur"
      ],
      "execution_count": 0,
      "outputs": []
    },
    {
      "metadata": {
        "id": "o1bG8JwerYIa",
        "colab_type": "text"
      },
      "cell_type": "markdown",
      "source": [
        "## 2) Définir les constantes du problème"
      ]
    },
    {
      "metadata": {
        "id": "gGcs3irwstB8",
        "colab_type": "code",
        "colab": {}
      },
      "cell_type": "code",
      "source": [
        "FA0 = 15 # mol/min\n",
        "FB0 = 20 # mol/min\n",
        "FC0 = 0 # mol/min\n",
        "FD0 = 0 # mol/min\n",
        "FE0 = 0 # mol/min\n",
        "FF0 = 0 # mol/min\n",
        "Vdot = 10 # l/min"
      ],
      "execution_count": 0,
      "outputs": []
    },
    {
      "metadata": {
        "id": "8jl3aavArcuM",
        "colab_type": "text"
      },
      "cell_type": "markdown",
      "source": [
        "## 3) Définir les équations à résoudre"
      ]
    },
    {
      "metadata": {
        "id": "8Fo8mz8ztUb1",
        "colab_type": "code",
        "colab": {}
      },
      "cell_type": "code",
      "source": [
        "def equations (variables, V, Vdot) :\n",
        "  FA, FB, FC, FD, FE, FF = variables\n",
        "  \n",
        "  cA = FA / Vdot\n",
        "  cB = FB / Vdot\n",
        "  cC = FC / Vdot\n",
        "  cD = FD / Vdot\n",
        "  cE = FE / Vdot\n",
        "  cF = FF / Vdot\n",
        "  \n",
        "  r1 = 0.25 * cA * cB\n",
        "  r2 = 0.1 * cA * cD\n",
        "  r3 = 5 * cB**2 * cC\n",
        "  \n",
        "  RA = - r1 - 3 * r2\n",
        "  RB = -2 * r1 - r3\n",
        "  RC = r1 + r2 -2 * r3\n",
        "  RD = r1 - 2 * r2 + r3\n",
        "  RE = r2\n",
        "  RF = r3\n",
        "  \n",
        "  dFAdt = RA\n",
        "  dFBdt = RB\n",
        "  dFCdt = RC\n",
        "  dFDdt = RD\n",
        "  dFEdt = RE\n",
        "  dFFdt = RF\n",
        "  \n",
        "  return dFAdt, dFBdt, dFCdt, dFDdt, dFEdt, dFFdt"
      ],
      "execution_count": 0,
      "outputs": []
    },
    {
      "metadata": {
        "id": "23xkQYjxrgE3",
        "colab_type": "text"
      },
      "cell_type": "markdown",
      "source": [
        "## 4) Définir les conditions initiales"
      ]
    },
    {
      "metadata": {
        "id": "ThzGot72vH-p",
        "colab_type": "code",
        "colab": {}
      },
      "cell_type": "code",
      "source": [
        "conditions_initiales = [FA0, FB0, FC0, FD0, FE0, FF0]"
      ],
      "execution_count": 0,
      "outputs": []
    },
    {
      "metadata": {
        "id": "h7USmfAArkG4",
        "colab_type": "text"
      },
      "cell_type": "markdown",
      "source": [
        "## 5) Résoudre le problème à l'aide du solveur"
      ]
    },
    {
      "metadata": {
        "id": "qzxi3_XDvKWx",
        "colab_type": "code",
        "colab": {}
      },
      "cell_type": "code",
      "source": [
        "V = np.arange(0, 50, 0.01) # définir les bornes d'intégration\n",
        "\n",
        "resultats = solveur.odeint(equations, conditions_initiales, V, (Vdot,)) # 1 constante => mettre une virgule"
      ],
      "execution_count": 0,
      "outputs": []
    },
    {
      "metadata": {
        "id": "M3H9FXkUal8o",
        "colab_type": "code",
        "colab": {}
      },
      "cell_type": "code",
      "source": [
        "FA = resultats [:,0]\n",
        "FB = resultats [:,1]\n",
        "FC = resultats [:,2]\n",
        "FD = resultats [:,3]\n",
        "FE = resultats [:,4]\n",
        "FF = resultats [:,5]"
      ],
      "execution_count": 0,
      "outputs": []
    },
    {
      "metadata": {
        "id": "PCew_HUD86Zj",
        "colab_type": "code",
        "colab": {}
      },
      "cell_type": "code",
      "source": [
        "cA = FA / Vdot\n",
        "cC = FC / Vdot\n",
        "cA0 = FA0 / Vdot"
      ],
      "execution_count": 0,
      "outputs": []
    },
    {
      "metadata": {
        "id": "aQJnakMhylEV",
        "colab_type": "code",
        "colab": {}
      },
      "cell_type": "code",
      "source": [
        "x = (cA0 - cA) / cA0"
      ],
      "execution_count": 0,
      "outputs": []
    },
    {
      "metadata": {
        "id": "zbb152xO_a00",
        "colab_type": "code",
        "colab": {
          "base_uri": "https://localhost:8080/",
          "height": 34
        },
        "outputId": "9a90836a-7bec-47de-8ee4-36dc58a8587e"
      },
      "cell_type": "code",
      "source": [
        "x[-1]"
      ],
      "execution_count": 57,
      "outputs": [
        {
          "output_type": "execute_result",
          "data": {
            "text/plain": [
              "0.8226581045006099"
            ]
          },
          "metadata": {
            "tags": []
          },
          "execution_count": 57
        }
      ]
    },
    {
      "metadata": {
        "id": "Xl3p7Obi_jc-",
        "colab_type": "code",
        "colab": {
          "base_uri": "https://localhost:8080/",
          "height": 34
        },
        "outputId": "2d074c37-13a8-4d40-efce-754e9cac39c9"
      },
      "cell_type": "code",
      "source": [
        "cC [-1]"
      ],
      "execution_count": 58,
      "outputs": [
        {
          "output_type": "execute_result",
          "data": {
            "text/plain": [
              "0.06141881805398408"
            ]
          },
          "metadata": {
            "tags": []
          },
          "execution_count": 58
        }
      ]
    },
    {
      "metadata": {
        "id": "mG6eTQb-rog8",
        "colab_type": "text"
      },
      "cell_type": "markdown",
      "source": [
        "## 6) Visualiser les résultats"
      ]
    },
    {
      "metadata": {
        "id": "Ul9lEB_DXHyv",
        "colab_type": "code",
        "colab": {
          "base_uri": "https://localhost:8080/",
          "height": 361
        },
        "outputId": "713101fa-1cc4-4440-ccd9-2e3d486188d6"
      },
      "cell_type": "code",
      "source": [
        "plt.plot(V,cC)\n",
        "plt.xlabel(\"V\")\n",
        "plt.ylabel(\"cC (mol/l)\")\n",
        "plt.legend([\"cC\"])\n",
        "plt.show()"
      ],
      "execution_count": 59,
      "outputs": [
        {
          "output_type": "display_data",
          "data": {
            "image/png": "[encoded data removed]",
            "text/plain": [
              "<matplotlib.figure.Figure at 0x7fc8af74f828>"
            ]
          },
          "metadata": {
            "tags": []
          }
        }
      ]
    }
  ]
}