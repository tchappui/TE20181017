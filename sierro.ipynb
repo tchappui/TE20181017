{
  "nbformat": 4,
  "nbformat_minor": 0,
  "metadata": {
    "colab": {
      "name": "TE TDR Ex 3.ipynb",
      "version": "0.3.2",
      "provenance": [],
      "collapsed_sections": []
    },
    "kernelspec": {
      "name": "python3",
      "display_name": "Python 3"
    }
  },
  "cells": [
    {
      "metadata": {
        "id": "-U7pzeBsrD29",
        "colab_type": "text"
      },
      "cell_type": "markdown",
      "source": [
        "## TE N°1 TDR Ex 3"
      ]
    },
    {
      "metadata": {
        "id": "7rhob_LrrUus",
        "colab_type": "text"
      },
      "cell_type": "markdown",
      "source": [
        "## 1) Importer les outils"
      ]
    },
    {
      "metadata": {
        "id": "-MPQCLEQsK5o",
        "colab_type": "code",
        "colab": {}
      },
      "cell_type": "code",
      "source": [
        "import numpy as np"
      ],
      "execution_count": 0,
      "outputs": []
    },
    {
      "metadata": {
        "id": "PxAtChmPsQPE",
        "colab_type": "code",
        "colab": {}
      },
      "cell_type": "code",
      "source": [
        "import matplotlib.pyplot as plt"
      ],
      "execution_count": 0,
      "outputs": []
    },
    {
      "metadata": {
        "id": "ABgcvaJqsW0w",
        "colab_type": "code",
        "colab": {}
      },
      "cell_type": "code",
      "source": [
        "import scipy.integrate as solveur"
      ],
      "execution_count": 0,
      "outputs": []
    },
    {
      "metadata": {
        "id": "o1bG8JwerYIa",
        "colab_type": "text"
      },
      "cell_type": "markdown",
      "source": [
        "## 2) Définir les constantes du problème"
      ]
    },
    {
      "metadata": {
        "id": "gGcs3irwstB8",
        "colab_type": "code",
        "colab": {}
      },
      "cell_type": "code",
      "source": [
        "CA0 = 1.5 # mol/l\n",
        "CB0 = 2.0 # mol/l\n",
        "Vdot = 10 #l/min"
      ],
      "execution_count": 0,
      "outputs": []
    },
    {
      "metadata": {
        "id": "8jl3aavArcuM",
        "colab_type": "text"
      },
      "cell_type": "markdown",
      "source": [
        "## 3) Définir les équations à résoudre"
      ]
    },
    {
      "metadata": {
        "id": "8Fo8mz8ztUb1",
        "colab_type": "code",
        "colab": {}
      },
      "cell_type": "code",
      "source": [
        "def equations (variables, V, Vdot) :\n",
        "  NA, NB, NC, ND, NE, NF = variables\n",
        "  \n",
        "  \n",
        "  CA = NA/Vdot\n",
        "  CB = NB/Vdot\n",
        "  CC = NC/Vdot\n",
        "  CD = ND/Vdot\n",
        "  CE = NE/Vdot\n",
        "  CF = NF/Vdot\n",
        "    \n",
        "  r1 = 0.25 * CA * CB\n",
        "  r2 = 0.1 * CA * CD\n",
        "  r3 = 5 * (CB**2) * CC\n",
        "  \n",
        "  RA = - r1 - (3 * r2)\n",
        "  RB = - (2 * r1) - r3\n",
        "  RC = r1 + r2 - (2 * r3)\n",
        "  RD = r1 - (2 * r2) + r3\n",
        "  RE = r2\n",
        "  RF = r3\n",
        "  \n",
        "  dNAdV = RA \n",
        "  dNBdV = RB \n",
        "  dNCdV = RC \n",
        "  dNDdV = RD \n",
        "  dNEdV = RE\n",
        "  dNFdV = RF\n",
        "  \n",
        "  \n",
        "  return dNAdV, dNBdV, dNCdV, dNDdV, dNEdV, dNFdV"
      ],
      "execution_count": 0,
      "outputs": []
    },
    {
      "metadata": {
        "id": "23xkQYjxrgE3",
        "colab_type": "text"
      },
      "cell_type": "markdown",
      "source": [
        "## 4) Définir les conditions initiales"
      ]
    },
    {
      "metadata": {
        "id": "ThzGot72vH-p",
        "colab_type": "code",
        "colab": {}
      },
      "cell_type": "code",
      "source": [
        "conditions_initiales = [CA0 * Vdot, CB0 * Vdot, 0, 0, 0, 0]"
      ],
      "execution_count": 0,
      "outputs": []
    },
    {
      "metadata": {
        "id": "qzxi3_XDvKWx",
        "colab_type": "code",
        "colab": {}
      },
      "cell_type": "code",
      "source": [
        "V = np.linspace(0, 50, 51) # définir les bornes d'intégration / on peut utiliser 'arrange'(0, 40.01, 0.01) => integration(debut , fint, dt) pour avoire tout les detaill entre 0 et 40s => definition\n",
        "\n",
        "resultats = solveur.odeint(\n",
        "    equations, \n",
        "    conditions_initiales,\n",
        "    V,\n",
        "    (Vdot,)) # 1 constante => mettre une virgule"
      ],
      "execution_count": 0,
      "outputs": []
    },
    {
      "metadata": {
        "id": "Gu4X50MTx--E",
        "colab_type": "code",
        "colab": {}
      },
      "cell_type": "code",
      "source": [
        "N1 = resultats [:,0] # [ : => toute les colone, 0 => je comence a 0(1er colonne)]"
      ],
      "execution_count": 0,
      "outputs": []
    },
    {
      "metadata": {
        "id": "h7USmfAArkG4",
        "colab_type": "text"
      },
      "cell_type": "markdown",
      "source": [
        "## 5) Résoudre le problème à l'aide du solveur"
      ]
    },
    {
      "metadata": {
        "id": "M3H9FXkUal8o",
        "colab_type": "code",
        "colab": {}
      },
      "cell_type": "code",
      "source": [
        "NA = resultats [:,0]\n",
        "\n",
        "NA0 = CA0 * Vdot\n",
        "x = (NA0 - NA) / NA0"
      ],
      "execution_count": 0,
      "outputs": []
    },
    {
      "metadata": {
        "id": "mG6eTQb-rog8",
        "colab_type": "text"
      },
      "cell_type": "markdown",
      "source": [
        "## 6) Visualiser les résultats"
      ]
    },
    {
      "metadata": {
        "id": "qWLTjMJ1wZyP",
        "colab_type": "code",
        "colab": {
          "base_uri": "https://localhost:8080/",
          "height": 361
        },
        "outputId": "99ed21db-b5eb-46c7-dc9d-096eca8cabc0"
      },
      "cell_type": "code",
      "source": [
        "plt.plot(V,resultats)\n",
        "plt.xlabel(\"V\")\n",
        "plt.ylabel(\"NA, NB, NC, ND, NE, NF\")\n",
        "plt.legend([\"NA\", \"NB\", \"NC\", \"ND\", \"NE\", \"NF\"])\n",
        "plt.show()"
      ],
      "execution_count": 10,
      "outputs": [
        {
          "output_type": "display_data",
          "data": {
            "image/png": "[encoded data removed]",
            "text/plain": [
              "<matplotlib.figure.Figure at 0x7f1c7f875048>"
            ]
          },
          "metadata": {
            "tags": []
          }
        }
      ]
    },
    {
      "metadata": {
        "id": "3kyq5bNazLQy",
        "colab_type": "code",
        "colab": {}
      },
      "cell_type": "code",
      "source": [
        ""
      ],
      "execution_count": 0,
      "outputs": []
    },
    {
      "metadata": {
        "id": "eFMzndKZbHj2",
        "colab_type": "code",
        "colab": {
          "base_uri": "https://localhost:8080/",
          "height": 361
        },
        "outputId": "c50d994f-f3d2-4e6d-cd43-0186505c39c8"
      },
      "cell_type": "code",
      "source": [
        "plt.plot(V, x)\n",
        "plt.xlabel(\"V\")\n",
        "plt.ylabel(\"x (-)\")\n",
        "plt.show()"
      ],
      "execution_count": 11,
      "outputs": [
        {
          "output_type": "display_data",
          "data": {
            "image/png": "[encoded data removed]",
            "text/plain": [
              "<matplotlib.figure.Figure at 0x7f1c7f875e48>"
            ]
          },
          "metadata": {
            "tags": []
          }
        }
      ]
    },
    {
      "metadata": {
        "id": "T5DF3amyzKLu",
        "colab_type": "code",
        "colab": {
          "base_uri": "https://localhost:8080/",
          "height": 33
        },
        "outputId": "4da2a786-ecc2-414e-bda0-1a58895f8274"
      },
      "cell_type": "code",
      "source": [
        "x[V < 50] [-1] # valeur superieur ou inferieur"
      ],
      "execution_count": 12,
      "outputs": [
        {
          "output_type": "execute_result",
          "data": {
            "text/plain": [
              "0.817780327470462"
            ]
          },
          "metadata": {
            "tags": []
          },
          "execution_count": 12
        }
      ]
    },
    {
      "metadata": {
        "id": "aagHE68l0S59",
        "colab_type": "code",
        "colab": {}
      },
      "cell_type": "code",
      "source": [
        " # comment extraire une concentration des reultatas..."
      ],
      "execution_count": 0,
      "outputs": []
    },
    {
      "metadata": {
        "id": "wTxfFfdJd7y_",
        "colab_type": "text"
      },
      "cell_type": "markdown",
      "source": [
        ""
      ]
    },
    {
      "metadata": {
        "id": "jNKSq9sqfcqO",
        "colab_type": "code",
        "colab": {}
      },
      "cell_type": "code",
      "source": [
        ""
      ],
      "execution_count": 0,
      "outputs": []
    },
    {
      "metadata": {
        "id": "Pyf91PvFjxmz",
        "colab_type": "text"
      },
      "cell_type": "markdown",
      "source": [
        ""
      ]
    }
  ]
}