{
  "nbformat": 4,
  "nbformat_minor": 0,
  "metadata": {
    "colab": {
      "name": "TE_Exercice3.ipynb",
      "version": "0.3.2",
      "provenance": [],
      "collapsed_sections": []
    },
    "kernelspec": {
      "name": "python3",
      "display_name": "Python 3"
    }
  },
  "cells": [
    {
      "metadata": {
        "id": "TTNxl6BDqXUv",
        "colab_type": "text"
      },
      "cell_type": "markdown",
      "source": [
        "## Importer les outils"
      ]
    },
    {
      "metadata": {
        "id": "RGaXUbPlquAX",
        "colab_type": "code",
        "colab": {}
      },
      "cell_type": "code",
      "source": [
        "# vecteurs et algèbre linéaire\n",
        "import numpy as np\n",
        "\n",
        "# les outils pour visualiser\n",
        "import matplotlib.pyplot as plt\n",
        "\n",
        "# le solveur\n",
        "import scipy.integrate as solveur\n"
      ],
      "execution_count": 0,
      "outputs": []
    },
    {
      "metadata": {
        "id": "cS3aZXHgqD2C",
        "colab_type": "text"
      },
      "cell_type": "markdown",
      "source": [
        "## Définir les constantes du problème"
      ]
    },
    {
      "metadata": {
        "id": "bKd0VDZTsr13",
        "colab_type": "code",
        "colab": {}
      },
      "cell_type": "code",
      "source": [
        "A = 0.25\n",
        "B = 0.1\n",
        "C = 5\n",
        "CA0 = 1.5 # mol/L\n",
        "CB0 = 2 # mol/L\n",
        "CC0 = 0 # mol/L\n",
        "CD0 = 0 # mol/L\n",
        "CE0 = 0 # mol/L\n",
        "CF0 = 0 # mol/L\n",
        "FA0 = 15 # mol/min\n",
        "FB0 = 20 # mol/min\n",
        "FC0 = 0 # mol/min\n",
        "FD0 = 0 # mol/min\n",
        "FE0 = 0 # mol/min\n",
        "FF0 = 0 # mol/min\n",
        "Vdot = 10 # L/min"
      ],
      "execution_count": 0,
      "outputs": []
    },
    {
      "metadata": {
        "id": "bkog40-fqKeP",
        "colab_type": "text"
      },
      "cell_type": "markdown",
      "source": [
        "## Définir les équations à résoudre\n"
      ]
    },
    {
      "metadata": {
        "id": "-jvPApNgtSsU",
        "colab_type": "code",
        "colab": {}
      },
      "cell_type": "code",
      "source": [
        "def equations(variables, V):\n",
        "    FA, FB, FC, FD, FE, FF = variables\n",
        "    \n",
        "    FA0 = CA0 * Vdot\n",
        "    FB0 = CB0 * Vdot\n",
        "    \n",
        "    CA = FA / Vdot\n",
        "    CB = FB / Vdot\n",
        "    CC = FC / Vdot\n",
        "    CD = FD / Vdot\n",
        "    CE = FE / Vdot\n",
        "    CF = FF / Vdot\n",
        "    \n",
        "    r1 = A * CA * CB\n",
        "    r2 = B * CA * CD\n",
        "    r3 = C * (CB ** 2) * CC\n",
        "    \n",
        "    RA = -r1-(3 * r2)\n",
        "    RB = -(2 * r1)-r3\n",
        "    RC = r1+r2-(2 * r3)\n",
        "    RD = r1-(2 * r2)+r3\n",
        "    RE = r2\n",
        "    RF = r3\n",
        "    \n",
        "    dFAdV = RA\n",
        "    dFBdV = RB\n",
        "    dFCdV = RC\n",
        "    dFDdV = RD\n",
        "    dFEdV = RE\n",
        "    dFFdV = RF\n",
        "    return dFAdV, dFBdV, dFCdV, dFDdV, dFEdV, dFFdV"
      ],
      "execution_count": 0,
      "outputs": []
    },
    {
      "metadata": {
        "id": "9Zw-iTDSqPi1",
        "colab_type": "text"
      },
      "cell_type": "markdown",
      "source": [
        "## Définir les conditions initiales\n"
      ]
    },
    {
      "metadata": {
        "id": "rCSuW6FNu5Ge",
        "colab_type": "code",
        "colab": {}
      },
      "cell_type": "code",
      "source": [
        "conditions_initiales = [FA0, FB0, FC0, FD0, FE0, FF0]"
      ],
      "execution_count": 0,
      "outputs": []
    },
    {
      "metadata": {
        "id": "meRe51WnqiDB",
        "colab_type": "text"
      },
      "cell_type": "markdown",
      "source": [
        "## Résoudre le problème à l'aide du solveur\n",
        "\n"
      ]
    },
    {
      "metadata": {
        "id": "1LY5EI7KvFqQ",
        "colab_type": "code",
        "colab": {
          "base_uri": "https://localhost:8080/",
          "height": 333
        },
        "outputId": "23774207-6228-4ee8-b784-37c62f3bad6d"
      },
      "cell_type": "code",
      "source": [
        "V = np.linspace(0, 51, 101)\n",
        "\n",
        "resultats = solveur.odeint(\n",
        "    equations,\n",
        "    conditions_initiales, \n",
        "    V,\n",
        "    (FA0, FB0, FC0, FD0, FE0, FF0, Vdot)\n",
        ")"
      ],
      "execution_count": 74,
      "outputs": [
        {
          "output_type": "error",
          "ename": "TypeError",
          "evalue": "ignored",
          "traceback": [
            "\u001b[0;31m---------------------------------------------------------------------------\u001b[0m",
            "\u001b[0;31mTypeError\u001b[0m                                 Traceback (most recent call last)",
            "\u001b[0;32m<ipython-input-74-e5c2edb44505>\u001b[0m in \u001b[0;36m<module>\u001b[0;34m()\u001b[0m\n\u001b[1;32m      5\u001b[0m     \u001b[0mconditions_initiales\u001b[0m\u001b[0;34m,\u001b[0m\u001b[0;34m\u001b[0m\u001b[0m\n\u001b[1;32m      6\u001b[0m     \u001b[0mV\u001b[0m\u001b[0;34m,\u001b[0m\u001b[0;34m\u001b[0m\u001b[0m\n\u001b[0;32m----> 7\u001b[0;31m     \u001b[0;34m(\u001b[0m\u001b[0mFA0\u001b[0m\u001b[0;34m,\u001b[0m \u001b[0mFB0\u001b[0m\u001b[0;34m,\u001b[0m \u001b[0mFC0\u001b[0m\u001b[0;34m,\u001b[0m \u001b[0mFD0\u001b[0m\u001b[0;34m,\u001b[0m \u001b[0mFE0\u001b[0m\u001b[0;34m,\u001b[0m \u001b[0mFF0\u001b[0m\u001b[0;34m,\u001b[0m \u001b[0mVdot\u001b[0m\u001b[0;34m)\u001b[0m\u001b[0;34m\u001b[0m\u001b[0m\n\u001b[0m\u001b[1;32m      8\u001b[0m )\n",
            "\u001b[0;32m/usr/local/lib/python3.6/dist-packages/scipy/integrate/odepack.py\u001b[0m in \u001b[0;36modeint\u001b[0;34m(func, y0, t, args, Dfun, col_deriv, full_output, ml, mu, rtol, atol, tcrit, h0, hmax, hmin, ixpr, mxstep, mxhnil, mxordn, mxords, printmessg)\u001b[0m\n\u001b[1;32m    213\u001b[0m     output = _odepack.odeint(func, y0, t, args, Dfun, col_deriv, ml, mu,\n\u001b[1;32m    214\u001b[0m                              \u001b[0mfull_output\u001b[0m\u001b[0;34m,\u001b[0m \u001b[0mrtol\u001b[0m\u001b[0;34m,\u001b[0m \u001b[0matol\u001b[0m\u001b[0;34m,\u001b[0m \u001b[0mtcrit\u001b[0m\u001b[0;34m,\u001b[0m \u001b[0mh0\u001b[0m\u001b[0;34m,\u001b[0m \u001b[0mhmax\u001b[0m\u001b[0;34m,\u001b[0m \u001b[0mhmin\u001b[0m\u001b[0;34m,\u001b[0m\u001b[0;34m\u001b[0m\u001b[0m\n\u001b[0;32m--> 215\u001b[0;31m                              ixpr, mxstep, mxhnil, mxordn, mxords)\n\u001b[0m\u001b[1;32m    216\u001b[0m     \u001b[0;32mif\u001b[0m \u001b[0moutput\u001b[0m\u001b[0;34m[\u001b[0m\u001b[0;34m-\u001b[0m\u001b[0;36m1\u001b[0m\u001b[0;34m]\u001b[0m \u001b[0;34m<\u001b[0m \u001b[0;36m0\u001b[0m\u001b[0;34m:\u001b[0m\u001b[0;34m\u001b[0m\u001b[0m\n\u001b[1;32m    217\u001b[0m         \u001b[0mwarning_msg\u001b[0m \u001b[0;34m=\u001b[0m \u001b[0m_msgs\u001b[0m\u001b[0;34m[\u001b[0m\u001b[0moutput\u001b[0m\u001b[0;34m[\u001b[0m\u001b[0;34m-\u001b[0m\u001b[0;36m1\u001b[0m\u001b[0;34m]\u001b[0m\u001b[0;34m]\u001b[0m \u001b[0;34m+\u001b[0m \u001b[0;34m\" Run with full_output = 1 to get quantitative information.\"\u001b[0m\u001b[0;34m\u001b[0m\u001b[0m\n",
            "\u001b[0;31mTypeError\u001b[0m: equations() takes 2 positional arguments but 9 were given"
          ]
        }
      ]
    },
    {
      "metadata": {
        "id": "UCi8ESAXahIE",
        "colab_type": "code",
        "colab": {
          "base_uri": "https://localhost:8080/",
          "height": 231
        },
        "outputId": "7813fa57-6a8d-4baa-f1a5-322eb767310d"
      },
      "cell_type": "code",
      "source": [
        "FA = resultats[:,0]\n",
        "CA = FA / Vdot\n",
        "\n",
        "NA0 = CA0 * V\n",
        "NA = CA * V\n",
        "X = (NA0 - NA) / NA0 # taux de conversion\n",
        "\n",
        "X[V > 50][0]\n",
        "\n",
        "\n",
        "FC = resultats[:,2]\n",
        "CC = FC / Vdot\n",
        "\n",
        "CC[V > 50][0] / 50"
      ],
      "execution_count": 41,
      "outputs": [
        {
          "output_type": "error",
          "ename": "NameError",
          "evalue": "ignored",
          "traceback": [
            "\u001b[0;31m---------------------------------------------------------------------------\u001b[0m",
            "\u001b[0;31mNameError\u001b[0m                                 Traceback (most recent call last)",
            "\u001b[0;32m<ipython-input-41-5239e492a91a>\u001b[0m in \u001b[0;36m<module>\u001b[0;34m()\u001b[0m\n\u001b[0;32m----> 1\u001b[0;31m \u001b[0mNA\u001b[0m \u001b[0;34m=\u001b[0m \u001b[0mresultats\u001b[0m\u001b[0;34m[\u001b[0m\u001b[0;34m:\u001b[0m\u001b[0;34m,\u001b[0m\u001b[0;36m0\u001b[0m\u001b[0;34m]\u001b[0m\u001b[0;34m\u001b[0m\u001b[0m\n\u001b[0m\u001b[1;32m      2\u001b[0m \u001b[0;34m\u001b[0m\u001b[0m\n\u001b[1;32m      3\u001b[0m \u001b[0mNA0\u001b[0m \u001b[0;34m=\u001b[0m \u001b[0mCA0\u001b[0m \u001b[0;34m*\u001b[0m \u001b[0mV\u001b[0m\u001b[0;34m\u001b[0m\u001b[0m\n\u001b[1;32m      4\u001b[0m \u001b[0mX\u001b[0m \u001b[0;34m=\u001b[0m \u001b[0;34m(\u001b[0m\u001b[0mNA0\u001b[0m \u001b[0;34m-\u001b[0m \u001b[0mNA\u001b[0m\u001b[0;34m)\u001b[0m \u001b[0;34m/\u001b[0m \u001b[0mNA0\u001b[0m \u001b[0;31m# taux de conversion\u001b[0m\u001b[0;34m\u001b[0m\u001b[0m\n\u001b[1;32m      5\u001b[0m \u001b[0;34m\u001b[0m\u001b[0m\n",
            "\u001b[0;31mNameError\u001b[0m: name 'resultats' is not defined"
          ]
        }
      ]
    }
  ]
}