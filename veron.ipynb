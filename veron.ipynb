{
  "nbformat": 4,
  "nbformat_minor": 0,
  "metadata": {
    "colab": {
      "name": "TE_20181017",
      "version": "0.3.2",
      "provenance": [],
      "collapsed_sections": []
    },
    "kernelspec": {
      "name": "python3",
      "display_name": "Python 3"
    }
  },
  "cells": [
    {
      "metadata": {
        "id": "9DMLyVXprAeh",
        "colab_type": "text"
      },
      "cell_type": "markdown",
      "source": [
        "**Importer les outils**"
      ]
    },
    {
      "metadata": {
        "id": "g6hrsUIarEFF",
        "colab_type": "code",
        "colab": {}
      },
      "cell_type": "code",
      "source": [
        "# vecteurs et algèbre linéaire\n",
        "import numpy as np\n",
        "\n",
        "# les outils pour visualiser\n",
        "import matplotlib.pyplot as plt\n",
        "\n",
        "# le solveur\n",
        "import scipy.integrate as solveur"
      ],
      "execution_count": 0,
      "outputs": []
    },
    {
      "metadata": {
        "id": "9Psur2FQrVf-",
        "colab_type": "text"
      },
      "cell_type": "markdown",
      "source": [
        "**Définir les constantes du problème**"
      ]
    },
    {
      "metadata": {
        "id": "PVqtguljraq2",
        "colab_type": "code",
        "colab": {}
      },
      "cell_type": "code",
      "source": [
        "k1 = 0.25\n",
        "k2 = 0.1 \n",
        "k3 = 5 \n",
        "\n",
        "Vdot = 10 # L*min^-1\n",
        "\n",
        "CA0 = 1.5 # mol*L-1\n",
        "FA0 = CA0 * Vdot\n",
        "\n",
        "CB0 = 2 # mol*L-1\n",
        "FB0 = CB0 * Vdot\n",
        "\n",
        "FC0 = 0\n",
        "FD0 = 0\n",
        "FE0 = 0\n",
        "FF0 = 0"
      ],
      "execution_count": 0,
      "outputs": []
    },
    {
      "metadata": {
        "id": "60uP1u0Arfk-",
        "colab_type": "text"
      },
      "cell_type": "markdown",
      "source": [
        "**Définir les équations à résoudre**"
      ]
    },
    {
      "metadata": {
        "id": "F45PHT3htZJx",
        "colab_type": "code",
        "colab": {}
      },
      "cell_type": "code",
      "source": [
        "def equation(variables, V, k1, k2, k3, Vdot):\n",
        "  FA, FB, FC , FD, FE, FF =  variables\n",
        "  \n",
        "  CA = FA / Vdot\n",
        "  CB = FB / Vdot\n",
        "  CC = FC / Vdot\n",
        "  CD = FD / Vdot\n",
        "  CE = FE / Vdot\n",
        "  CF = FF / Vdot\n",
        "  \n",
        "  \n",
        "  r1 = k1 * CA * CB\n",
        "  r2 = k2 * CA * CD\n",
        "  r3 = k3 * CB**2 * CC\n",
        "  \n",
        "  RA = - r1 - 3 * r2\n",
        "  RB = - 2 * r1 - r3\n",
        "  RC = r1 + r2 - 2 * r3\n",
        "  RD = r1 - 2 * r2 + r3\n",
        "  RE = r2\n",
        "  RF = r3\n",
        "  \n",
        "  dFAdV = RA\n",
        "  dFBdV = RB\n",
        "  dFCdV = RC\n",
        "  dFDdV = RD\n",
        "  dFEdV = RE\n",
        "  dFFdV = RF\n",
        "  \n",
        "  \n",
        "  return dFAdV, dFBdV, dFCdV, dFDdV, dFEdV, dFFdV"
      ],
      "execution_count": 0,
      "outputs": []
    },
    {
      "metadata": {
        "id": "WlGVrE_nuzLL",
        "colab_type": "text"
      },
      "cell_type": "markdown",
      "source": [
        "**Définir les conditions initiales**"
      ]
    },
    {
      "metadata": {
        "id": "Xzc0jBtqu7I6",
        "colab_type": "code",
        "colab": {}
      },
      "cell_type": "code",
      "source": [
        "conditions_initiales=[FA0, FB0, FC0, FD0, FE0, FF0] "
      ],
      "execution_count": 0,
      "outputs": []
    },
    {
      "metadata": {
        "id": "dR4_jIC0rigO",
        "colab_type": "text"
      },
      "cell_type": "markdown",
      "source": [
        "**Résoudre le probème à l'aide du solveur**"
      ]
    },
    {
      "metadata": {
        "id": "w12GA1rlrnFd",
        "colab_type": "code",
        "colab": {}
      },
      "cell_type": "code",
      "source": [
        "V = np.arange(0, 50.1, 0.01)    # définir les bornes d'intégration \n",
        "                              \n",
        "resultat = solveur.odeint(\n",
        "    equation, \n",
        "    conditions_initiales, \n",
        "    V, \n",
        "    (k1, k2, k3, Vdot)\n",
        ")                             #quoi résoudre, conditions init, plage de valeurs"
      ],
      "execution_count": 0,
      "outputs": []
    },
    {
      "metadata": {
        "id": "hPBqM6cGam48",
        "colab_type": "code",
        "colab": {}
      },
      "cell_type": "code",
      "source": [
        "FA = resultat[:,0]            #[toutes les lignes :, premiere colonne]"
      ],
      "execution_count": 0,
      "outputs": []
    },
    {
      "metadata": {
        "id": "i2uo4Em0yazi",
        "colab_type": "code",
        "colab": {}
      },
      "cell_type": "code",
      "source": [
        "x = (FA0 - FA) / FA0"
      ],
      "execution_count": 0,
      "outputs": []
    },
    {
      "metadata": {
        "id": "QtpsMQU01Ujp",
        "colab_type": "code",
        "colab": {}
      },
      "cell_type": "code",
      "source": [
        "FC = resultat[:,2]\n",
        "CC = FC / Vdot"
      ],
      "execution_count": 0,
      "outputs": []
    },
    {
      "metadata": {
        "id": "BDkrecG5rn1S",
        "colab_type": "text"
      },
      "cell_type": "markdown",
      "source": [
        "**Visualiser les résultats**"
      ]
    },
    {
      "metadata": {
        "id": "TuJmf6p5rpM1",
        "colab_type": "code",
        "colab": {
          "base_uri": "https://localhost:8080/",
          "height": 361
        },
        "outputId": "c8f2f262-ff85-4656-f869-932241da2731"
      },
      "cell_type": "code",
      "source": [
        "plt.plot(V, x)                #comment varie x \n",
        "plt.xlabel('V')\n",
        "plt.ylabel('x(-)')\n",
        "plt.legend(['x'])             #légendes des courbes présentées\n",
        "plt.show()"
      ],
      "execution_count": 87,
      "outputs": [
        {
          "output_type": "display_data",
          "data": {
            "image/png": "[encoded data removed]",
            "text/plain": [
              "<matplotlib.figure.Figure at 0x7f3d078b36a0>"
            ]
          },
          "metadata": {
            "tags": []
          }
        }
      ]
    },
    {
      "metadata": {
        "id": "kvcCcYU3zEj_",
        "colab_type": "code",
        "colab": {
          "base_uri": "https://localhost:8080/",
          "height": 35
        },
        "outputId": "48a4c755-2fbf-4653-b70e-d35e7a3b27c0"
      },
      "cell_type": "code",
      "source": [
        "x[V>50][0]"
      ],
      "execution_count": 88,
      "outputs": [
        {
          "output_type": "execute_result",
          "data": {
            "text/plain": [
              "0.8227550387987186"
            ]
          },
          "metadata": {
            "tags": []
          },
          "execution_count": 88
        }
      ]
    },
    {
      "metadata": {
        "id": "mVh24cG31BLS",
        "colab_type": "code",
        "colab": {
          "base_uri": "https://localhost:8080/",
          "height": 361
        },
        "outputId": "89fe5652-2ae7-446c-9779-72d32b13d646"
      },
      "cell_type": "code",
      "source": [
        "plt.plot(V, CC) #comment varie x \n",
        "plt.xlabel('V')\n",
        "plt.ylabel('CC(M)')\n",
        "plt.legend(['CC']) #légendes des courbes présentées\n",
        "plt.show()"
      ],
      "execution_count": 89,
      "outputs": [
        {
          "output_type": "display_data",
          "data": {
            "image/png": "[encoded data removed]",
            "text/plain": [
              "<matplotlib.figure.Figure at 0x7f3d078f1358>"
            ]
          },
          "metadata": {
            "tags": []
          }
        }
      ]
    },
    {
      "metadata": {
        "id": "2MiWGvJY1spT",
        "colab_type": "code",
        "colab": {
          "base_uri": "https://localhost:8080/",
          "height": 35
        },
        "outputId": "764aa2ba-ecef-4c5f-9d7f-e0c90e1c4d06"
      },
      "cell_type": "code",
      "source": [
        "CC[V>50][0]"
      ],
      "execution_count": 90,
      "outputs": [
        {
          "output_type": "execute_result",
          "data": {
            "text/plain": [
              "0.061425519814546484"
            ]
          },
          "metadata": {
            "tags": []
          },
          "execution_count": 90
        }
      ]
    }
  ]
}