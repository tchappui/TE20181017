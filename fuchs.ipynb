{
  "nbformat": 4,
  "nbformat_minor": 0,
  "metadata": {
    "colab": {
      "name": "Ex_3_Fuchs_Jean-Luc_Test_du_17.10.2018.ipynb",
      "version": "0.3.2",
      "provenance": [],
      "collapsed_sections": []
    },
    "kernelspec": {
      "name": "python3",
      "display_name": "Python 3"
    }
  },
  "cells": [
    {
      "metadata": {
        "id": "NkvR03_bqbPG",
        "colab_type": "text"
      },
      "cell_type": "markdown",
      "source": [
        "#Execice 3 Fuchs Jean-Luc Test du 17.10.2018"
      ]
    },
    {
      "metadata": {
        "id": "_9UWQ1LqqtxX",
        "colab_type": "text"
      },
      "cell_type": "markdown",
      "source": [
        "## Importer les outils\n",
        "\n",
        "\n",
        "\n"
      ]
    },
    {
      "metadata": {
        "id": "qXIjU7oEpbxW",
        "colab_type": "code",
        "colab": {}
      },
      "cell_type": "code",
      "source": [
        "#vecteur et algèbre linéaire\n",
        "import numpy as np\n",
        "\n",
        "#les outils pour visualiser\n",
        "import matplotlib.pyplot as plt\n",
        "\n",
        "#le solveur\n",
        "import scipy.integrate as solveur"
      ],
      "execution_count": 0,
      "outputs": []
    },
    {
      "metadata": {
        "id": "SL0T8G2DQHqc",
        "colab_type": "text"
      },
      "cell_type": "markdown",
      "source": [
        ""
      ]
    },
    {
      "metadata": {
        "id": "ZJqcA_qgqZtL",
        "colab_type": "text"
      },
      "cell_type": "markdown",
      "source": [
        "## Définir les constante du problème\n"
      ]
    },
    {
      "metadata": {
        "id": "IfJyrw9krWcP",
        "colab_type": "code",
        "colab": {}
      },
      "cell_type": "code",
      "source": [
        "k1 = 0.25 #mol/L*min\n",
        "k2 = 0.1  #mol/L*min\n",
        "k3 = 5.0  #L/(mol*min)\n",
        "V = 50#L\n",
        "Vdot = 10  #L/min\n",
        "Ca0 = 1.5  #mol/L\n",
        "Cb0 = 2  #mol/L\n",
        "Cc0 = 0  #mol/L\n",
        "Cd0 = 0  #mol/L\n",
        "Ce0 = 0  #mol/L\n",
        "Cf0 = 0  #mol/L\n"
      ],
      "execution_count": 0,
      "outputs": []
    },
    {
      "metadata": {
        "id": "yHD3TErdrYpy",
        "colab_type": "text"
      },
      "cell_type": "markdown",
      "source": [
        "## Définir les équations à résoudre"
      ]
    },
    {
      "metadata": {
        "id": "lN1524WMredg",
        "colab_type": "code",
        "colab": {}
      },
      "cell_type": "code",
      "source": [
        "def equation(variables, t, k1, k2, k3, V):    #en première position c'est la variable au numérateur en fonction du dénominateur (ici dy/dt)\n",
        "    Ca, Cb, Cc, Cd, Ce, Cf  = variables   #écrire aussi: x, y = variables\n",
        "       \n",
        "    \n",
        "    r1 = k1 * Ca * Cb\n",
        "    r2 = k2 * Ca * Cd\n",
        "    r3 = k3 * Cb * Cb * Cc\n",
        "    \n",
        "    Ra = -r1-3*r2\n",
        "    Rb = -2*r1-r3\n",
        "    Rc = r1 + r2 - 2*r3\n",
        "    Rd = r1-2*r2+r3\n",
        "    Re = r2\n",
        "    Rf = r3\n",
        "    \n",
        "    dCadt = Ra\n",
        "    dCbdt = Rb\n",
        "    dCcdt = Rc\n",
        "    dCddt = Rd\n",
        "    dCedt = Re\n",
        "    dCfdt = Rf\n",
        "    \n",
        "    return dCadt, dCbdt, dCcdt, dCddt, dCedt, dCfdt              #d'abord on calcule dydt et ensuite on renvoit pour dire qu'il a terminé"
      ],
      "execution_count": 0,
      "outputs": []
    },
    {
      "metadata": {
        "id": "1Hg9AOQUrfQg",
        "colab_type": "text"
      },
      "cell_type": "markdown",
      "source": [
        "## Définir les conditions initiales"
      ]
    },
    {
      "metadata": {
        "id": "asCDq4gBrjAl",
        "colab_type": "code",
        "colab": {}
      },
      "cell_type": "code",
      "source": [
        "conditions_initiales = [Ca0, Cb0,Cc0, Cd0, Ce0, Cf0]    # c'est une liste car si plusieurs conditions initiales alors liste plus longue"
      ],
      "execution_count": 0,
      "outputs": []
    },
    {
      "metadata": {
        "id": "eoeinVm5rjbE",
        "colab_type": "text"
      },
      "cell_type": "markdown",
      "source": [
        "## Résoudre le problème à l'aide du solveur"
      ]
    },
    {
      "metadata": {
        "id": "s0-8yBTixT9S",
        "colab_type": "code",
        "outputId": "17f519c1-9221-496e-ec65-d1df2ad71d64",
        "colab": {
          "base_uri": "https://localhost:8080/",
          "height": 35
        }
      },
      "cell_type": "code",
      "source": [
        "conditions_initiales"
      ],
      "execution_count": 58,
      "outputs": [
        {
          "output_type": "execute_result",
          "data": {
            "text/plain": [
              "[1.5, 2, 0, 0, 0, 0]"
            ]
          },
          "metadata": {
            "tags": []
          },
          "execution_count": 58
        }
      ]
    },
    {
      "metadata": {
        "id": "sPOTPMNBrnp2",
        "colab_type": "code",
        "colab": {}
      },
      "cell_type": "code",
      "source": [
        "t = np.linspace(0, 5, 601)   #ici on définit les bornes d'intégration\n",
        "\n",
        "resultats = solveur.odeint(\n",
        "    equation,\n",
        "    conditions_initiales,\n",
        "    t,\n",
        "    ( k1, k2, k3,V)\n",
        ")            "
      ],
      "execution_count": 0,
      "outputs": []
    },
    {
      "metadata": {
        "id": "gt0druPpciEj",
        "colab_type": "code",
        "colab": {}
      },
      "cell_type": "code",
      "source": [
        "Ca = resultats[:,0]\n",
        "Ca0 = Ca0"
      ],
      "execution_count": 0,
      "outputs": []
    },
    {
      "metadata": {
        "id": "gKQp5RPKdVkY",
        "colab_type": "code",
        "colab": {}
      },
      "cell_type": "code",
      "source": [
        "X = (Na0 - Na)/Na0  #calcul taux de conversion"
      ],
      "execution_count": 0,
      "outputs": []
    },
    {
      "metadata": {
        "id": "SEAVXpzClrig",
        "colab_type": "code",
        "colab": {}
      },
      "cell_type": "code",
      "source": [
        "Cc = resultats [:,2]"
      ],
      "execution_count": 0,
      "outputs": []
    },
    {
      "metadata": {
        "id": "6iwpUwGHrosg",
        "colab_type": "text"
      },
      "cell_type": "markdown",
      "source": [
        "## Visualiser les résultats"
      ]
    },
    {
      "metadata": {
        "id": "fl6Ci4cPrr3H",
        "colab_type": "code",
        "outputId": "53ad5a61-a250-4aff-effb-2373ebcf1296",
        "colab": {
          "base_uri": "https://localhost:8080/",
          "height": 379
        }
      },
      "cell_type": "code",
      "source": [
        "\n",
        "plt.plot(t, resultats)\n",
        "plt.xlabel('t')\n",
        "plt.ylabel('Variation concentration de mole')\n",
        "plt.legend(['dNa/dt', 'dNb/dt', 'dNc/dt', 'dNd/dt', 'dNe/dt', 'dNf/dt'])\n",
        "plt.show"
      ],
      "execution_count": 63,
      "outputs": [
        {
          "output_type": "execute_result",
          "data": {
            "text/plain": [
              "<function matplotlib.pyplot.show>"
            ]
          },
          "metadata": {
            "tags": []
          },
          "execution_count": 63
        },
        {
          "output_type": "display_data",
          "data": {
            "image/png": "[encoded data removed]",
            "text/plain": [
              "<matplotlib.figure.Figure at 0x7facea3045f8>"
            ]
          },
          "metadata": {
            "tags": []
          }
        }
      ]
    },
    {
      "metadata": {
        "id": "6NJjaSrSdhad",
        "colab_type": "code",
        "outputId": "d4b3778d-0e44-4c6f-b64c-b66ff63bbdb1",
        "colab": {
          "base_uri": "https://localhost:8080/",
          "height": 379
        }
      },
      "cell_type": "code",
      "source": [
        "plt.plot(t, X)\n",
        "plt.xlabel('t')\n",
        "plt.ylabel('Taux de conversion de A')\n",
        "plt.legend(['X'])\n",
        "plt.show"
      ],
      "execution_count": 64,
      "outputs": [
        {
          "output_type": "execute_result",
          "data": {
            "text/plain": [
              "<function matplotlib.pyplot.show>"
            ]
          },
          "metadata": {
            "tags": []
          },
          "execution_count": 64
        },
        {
          "output_type": "display_data",
          "data": {
            "image/png": "[encoded data removed]",
            "text/plain": [
              "<matplotlib.figure.Figure at 0x7facea399da0>"
            ]
          },
          "metadata": {
            "tags": []
          }
        }
      ]
    },
    {
      "metadata": {
        "id": "JeNtzuGIdo5e",
        "colab_type": "code",
        "outputId": "c320f0fc-0247-4445-cc42-8c80964fa577",
        "colab": {
          "base_uri": "https://localhost:8080/",
          "height": 35
        }
      },
      "cell_type": "code",
      "source": [
        "Ca [t>=5] [0]  #taux de conversion après 400 secondes"
      ],
      "execution_count": 67,
      "outputs": [
        {
          "output_type": "execute_result",
          "data": {
            "text/plain": [
              "0.2659401319344847"
            ]
          },
          "metadata": {
            "tags": []
          },
          "execution_count": 67
        }
      ]
    },
    {
      "metadata": {
        "id": "zIzhwSI3mlTL",
        "colab_type": "code",
        "colab": {
          "base_uri": "https://localhost:8080/",
          "height": 35
        },
        "outputId": "0a15933f-cf9a-43e7-a92b-fce05590fd22"
      },
      "cell_type": "code",
      "source": [
        "Cc [t>=5][0]"
      ],
      "execution_count": 70,
      "outputs": [
        {
          "output_type": "execute_result",
          "data": {
            "text/plain": [
              "0.061422168191249266"
            ]
          },
          "metadata": {
            "tags": []
          },
          "execution_count": 70
        }
      ]
    },
    {
      "metadata": {
        "id": "yPGRDjtkFAqa",
        "colab_type": "code",
        "colab": {}
      },
      "cell_type": "code",
      "source": [
        ""
      ],
      "execution_count": 0,
      "outputs": []
    }
  ]
}