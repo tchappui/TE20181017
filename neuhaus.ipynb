{
 "cells": [
  {
   "cell_type": "markdown",
   "metadata": {
    "colab_type": "text",
    "id": "r80fs_UKpiBV"
   },
   "source": [
    "# Calcul de profil de réaction d'un réacteur en mode Batch\n"
   ]
  },
  {
   "cell_type": "markdown",
   "metadata": {
    "colab_type": "text",
    "id": "TTNxl6BDqXUv"
   },
   "source": [
    "## Importer les outils"
   ]
  },
  {
   "cell_type": "code",
   "execution_count": 1,
   "metadata": {
    "colab": {},
    "colab_type": "code",
    "collapsed": true,
    "id": "RGaXUbPlquAX"
   },
   "outputs": [],
   "source": [
    "# vecteurs et algèbre linéaire\n",
    "import numpy as np\n",
    "\n",
    "# les outils pour visualiser\n",
    "import matplotlib.pyplot as plt\n",
    "\n",
    "# le solveur\n",
    "import scipy.integrate as solveur\n"
   ]
  },
  {
   "cell_type": "markdown",
   "metadata": {
    "colab_type": "text",
    "id": "cS3aZXHgqD2C"
   },
   "source": [
    "## Définir les constantes du problème"
   ]
  },
  {
   "cell_type": "code",
   "execution_count": 2,
   "metadata": {
    "colab": {},
    "colab_type": "code",
    "collapsed": true,
    "id": "bKd0VDZTsr13"
   },
   "outputs": [],
   "source": [
    "k1 = 0.25 # mol/L*min\n",
    "k2 = 0.1 #mol/L*min\n",
    "k3 = 5.0 #mol/L*min\n",
    "\n",
    "W = 10 #L/min, Vdot de la donnée de l'exercice\n",
    "\n",
    "FA0 = 1.5*W # mol/min\n",
    "FB0 = 2.0*W # mol/min\n",
    "FC0 = 0\n",
    "FD0 = 0\n",
    "CA0 = 1.5 # mol/L"
   ]
  },
  {
   "cell_type": "markdown",
   "metadata": {
    "colab_type": "text",
    "id": "bkog40-fqKeP"
   },
   "source": [
    "## Définir les équations à résoudre"
   ]
  },
  {
   "cell_type": "code",
   "execution_count": 3,
   "metadata": {
    "colab": {},
    "colab_type": "code",
    "collapsed": true,
    "id": "-jvPApNgtSsU"
   },
   "outputs": [],
   "source": [
    "def equations(variables, V, k1, k2, k3):\n",
    "    FA, FB, FC, FD = variables\n",
    "    \n",
    "  \n",
    "    CA=FA/W\n",
    "    CB=FB/W\n",
    "    CC=FC/W\n",
    "    CD=FD/W\n",
    "    \n",
    "    r1 = k1 * CA * CB\n",
    "    r2 = k2 * CA * CD\n",
    "    r3 = k3 * CB**2*CC\n",
    "    \n",
    "    RA = -r1-3*r3\n",
    "    RB = -2*r1-r3\n",
    "    RC = r1+r2-2*r3\n",
    "    RD = r1-2*r2+r3\n",
    "    RE = r2\n",
    "    RF = r3\n",
    "    \n",
    "    dFAdV = RA\n",
    "    dFBdV = RB\n",
    "    dFCdV = RC\n",
    "    dFDdV = RD\n",
    "    \n",
    "    return dFAdV, dFBdV, dFCdV, dFDdV"
   ]
  },
  {
   "cell_type": "markdown",
   "metadata": {
    "colab_type": "text",
    "id": "9Zw-iTDSqPi1"
   },
   "source": [
    "## Définir les conditions initiales"
   ]
  },
  {
   "cell_type": "code",
   "execution_count": 4,
   "metadata": {
    "colab": {},
    "colab_type": "code",
    "collapsed": true,
    "id": "rCSuW6FNu5Ge"
   },
   "outputs": [],
   "source": [
    "conditions_initiales = [FA0, FB0, FC0, FD0] # mol/min"
   ]
  },
  {
   "cell_type": "markdown",
   "metadata": {
    "colab_type": "text",
    "id": "meRe51WnqiDB"
   },
   "source": [
    "## Résoudre le problème à l'aide du solveur"
   ]
  },
  {
   "cell_type": "code",
   "execution_count": 5,
   "metadata": {
    "colab": {
     "base_uri": "https://localhost:8080/",
     "height": 372
    },
    "colab_type": "code",
    "id": "1LY5EI7KvFqQ",
    "outputId": "5de34b59-6ef8-449e-85d2-2df24c0dbb01"
   },
   "outputs": [],
   "source": [
    "V = np.linspace(0, 60, 61) # définir les bornes d'intégration\n",
    "\n",
    "resultats = solveur.odeint(\n",
    "    equations, \n",
    "    conditions_initiales, \n",
    "    V, \n",
    "    (k1, k2, k3)\n",
    ")"
   ]
  },
  {
   "cell_type": "code",
   "execution_count": 6,
   "metadata": {
    "colab": {
     "base_uri": "https://localhost:8080/",
     "height": 171
    },
    "colab_type": "code",
    "id": "UCi8ESAXahIE",
    "outputId": "7ba5fbb2-1267-45df-e8ee-68db39e9fcaa"
   },
   "outputs": [],
   "source": [
    "CA = resultats[:,1]"
   ]
  },
  {
   "cell_type": "code",
   "execution_count": 7,
   "metadata": {
    "colab": {},
    "colab_type": "code",
    "id": "iz8gmQzIyJaP"
   },
   "outputs": [],
   "source": [
    "X = (CA0 - CA) / CA0"
   ]
  },
  {
   "cell_type": "markdown",
   "metadata": {
    "colab_type": "text",
    "id": "MG3jzyMFqokZ"
   },
   "source": [
    "## Visualiser les résultats"
   ]
  },
  {
   "cell_type": "code",
   "execution_count": 8,
   "metadata": {
    "colab": {
     "base_uri": "https://localhost:8080/",
     "height": 361
    },
    "colab_type": "code",
    "id": "t61vp4dhwVN6",
    "outputId": "9f4d7fcc-e5df-4e22-d877-412c44e45786"
   },
   "outputs": [
    {
     "data": {
      "image/png": "[encoded data removed]",
      "text/plain": [
       "<matplotlib.figure.Figure at 0xfcf6141518>"
      ]
     },
     "metadata": {},
     "output_type": "display_data"
    }
   ],
   "source": [
    "plt.plot(V, X)\n",
    "plt.xlabel('V')\n",
    "plt.ylabel('X (-)')\n",
    "plt.legend(['X'])\n",
    "plt.show()"
   ]
  },
  {
   "cell_type": "code",
   "execution_count": 10,
   "metadata": {
    "colab": {
     "base_uri": "https://localhost:8080/",
     "height": 35
    },
    "colab_type": "code",
    "id": "Rxyo_dAiy-Ea",
    "outputId": "8b4fc27e-b008-4c6c-8c13-32cc3db8731c"
   },
   "outputs": [
    {
     "data": {
      "text/plain": [
       "-3.1603625130430468"
      ]
     },
     "execution_count": 10,
     "metadata": {},
     "output_type": "execute_result"
    }
   ],
   "source": [
    "X[V > 50][0]"
   ]
  },
  {
   "cell_type": "code",
   "execution_count": null,
   "metadata": {
    "colab": {},
    "colab_type": "code",
    "collapsed": true,
    "id": "Rm7PbCNkzERX"
   },
   "outputs": [],
   "source": []
  }
 ],
 "metadata": {
  "colab": {
   "collapsed_sections": [],
   "name": "TE_20181017.ipynb",
   "provenance": [],
   "version": "0.3.2"
  },
  "kernelspec": {
   "display_name": "Python 3",
   "language": "python",
   "name": "python3"
  },
  "language_info": {
   "codemirror_mode": {
    "name": "ipython",
    "version": 3
   },
   "file_extension": ".py",
   "mimetype": "text/x-python",
   "name": "python",
   "nbconvert_exporter": "python",
   "pygments_lexer": "ipython3",
   "version": "3.6.3"
  }
 },
 "nbformat": 4,
 "nbformat_minor": 1
}
