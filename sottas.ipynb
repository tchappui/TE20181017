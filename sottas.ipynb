{
  "nbformat": 4,
  "nbformat_minor": 0,
  "metadata": {
    "colab": {
      "name": "Examen2018 Problème 3.ipynb",
      "version": "0.3.2",
      "provenance": [],
      "collapsed_sections": []
    },
    "kernelspec": {
      "name": "python3",
      "display_name": "Python 3"
    }
  },
  "cells": [
    {
      "metadata": {
        "id": "_smmtLsyp4gk",
        "colab_type": "code",
        "colab": {}
      },
      "cell_type": "code",
      "source": [
        "# vecteurs et algèbre linéaire\n",
        "import numpy as np\n",
        "\n",
        "# les outils pour visualiser\n",
        "import matplotlib.pyplot as plt\n",
        "\n",
        "# le solveur\n",
        "import scipy.integrate as sci"
      ],
      "execution_count": 0,
      "outputs": []
    },
    {
      "metadata": {
        "id": "-TovjKhWqzS1",
        "colab_type": "text"
      },
      "cell_type": "markdown",
      "source": [
        "#Définir les constantes"
      ]
    },
    {
      "metadata": {
        "id": "-huMGMjFp6DH",
        "colab_type": "code",
        "colab": {}
      },
      "cell_type": "code",
      "source": [
        "CA0 = 1.5 # mol/L\n",
        "CB0 = 2 # mol/L\n",
        "CC0 = 0 # mol/L\n",
        "CD0 = 0 # mol/L\n",
        "CE0 = 0 # mol/L\n",
        "CF0 = 0 # mol/L\n",
        "Vdot = 10 # L/min\n",
        "FA0 = CA0 * Vdot\n",
        "FB0 = CB0 * Vdot\n",
        "FC0 = 0\n",
        "FD0 = 0\n",
        "FE0 = 0\n",
        "FF0 = 0\n"
      ],
      "execution_count": 0,
      "outputs": []
    },
    {
      "metadata": {
        "id": "E1cLKyJzsLuD",
        "colab_type": "text"
      },
      "cell_type": "markdown",
      "source": [
        "#Définir les équations à résoudre\n"
      ]
    },
    {
      "metadata": {
        "id": "fZvSQ7d-rqf1",
        "colab_type": "code",
        "colab": {}
      },
      "cell_type": "code",
      "source": [
        "def equations(variables, V, Vdot): #passer dans la liste les constantes dont on a besoin\n",
        "  FA, FB, FC, FD, FE, FF = variables\n",
        "  \n",
        "  CA = FA / Vdot\n",
        "  CB = FB / Vdot\n",
        "  CC = FC / Vdot\n",
        "  CD = FD / Vdot\n",
        "  CE = FE / Vdot\n",
        "  CF = FF / Vdot\n",
        "  \n",
        "  \n",
        "  r1 = 0.25 * CA * CB # mol(L*min)\n",
        "  r2 = 0.1 * CA * CD # mol(L*min)\n",
        "  r3 = 5 * (CB**2) * CC # mol(L*min)\n",
        "  \n",
        "  RA = -r1-3*r2\n",
        "  RB = -2*r1-r3\n",
        "  RC = r1 + r2 - 2*r3\n",
        "  RD = r1 - 2*r2 + r3\n",
        "  RE = r2\n",
        "  RF = r3\n",
        "  \n",
        "  dFAdV = RA \n",
        "  dFBdV = RB \n",
        "  dFCdV = RC \n",
        "  dFDdV = RD \n",
        "  dFEdV = RE \n",
        "  dFFdV = RF \n",
        "  \n",
        "  return dFAdV, dFBdV, dFCdV, dFDdV, dFEdV, dFFdV\n",
        "  "
      ],
      "execution_count": 0,
      "outputs": []
    },
    {
      "metadata": {
        "id": "qTbW5y18vtZQ",
        "colab_type": "text"
      },
      "cell_type": "markdown",
      "source": [
        "#Définir les conditions initiales"
      ]
    },
    {
      "metadata": {
        "id": "BqYquZBGshrA",
        "colab_type": "code",
        "colab": {}
      },
      "cell_type": "code",
      "source": [
        "conditions_initiales = [FA0, FB0, FC0, FD0, FE0, FF0]"
      ],
      "execution_count": 0,
      "outputs": []
    },
    {
      "metadata": {
        "id": "BLLacRXFxgCz",
        "colab_type": "text"
      },
      "cell_type": "markdown",
      "source": [
        "#Résoudre le problème à l'aide du solveur"
      ]
    },
    {
      "metadata": {
        "id": "4x-izT4Uv5PV",
        "colab_type": "code",
        "colab": {}
      },
      "cell_type": "code",
      "source": [
        "V = np.linspace(0, 50, 500) # définir les bornes d'intégration\n",
        "resultats = sci.odeint(equations, conditions_initiales, V, (Vdot,)) #s'il n'y avait qu'une constante, il faut mettre (a,)"
      ],
      "execution_count": 0,
      "outputs": []
    },
    {
      "metadata": {
        "id": "E9aaTSS-xsrs",
        "colab_type": "code",
        "colab": {}
      },
      "cell_type": "code",
      "source": [
        "FA = resultats[:,0] #récupérer toutes les valeurs de toutes les lignes et de la colonne 1 (indice 0)\n",
        "FB = resultats[:,1]\n",
        "FC = resultats[:,2]\n",
        "FD = resultats[:,3]\n",
        "FE = resultats[:,4]\n",
        "FF = resultats[:,5]"
      ],
      "execution_count": 0,
      "outputs": []
    },
    {
      "metadata": {
        "id": "DdYqOjUi7Vmh",
        "colab_type": "code",
        "colab": {}
      },
      "cell_type": "code",
      "source": [
        "X = (FA0 - FA) / FA0"
      ],
      "execution_count": 0,
      "outputs": []
    },
    {
      "metadata": {
        "id": "aZRQACQsycv_",
        "colab_type": "code",
        "outputId": "424117f8-ce24-455b-a06c-cfde374a9e52",
        "colab": {
          "base_uri": "https://localhost:8080/",
          "height": 361
        }
      },
      "cell_type": "code",
      "source": [
        "plt.plot(V, FA)\n",
        "plt.xlabel('V (L)')\n",
        "plt.ylabel('FA (mol/min)')\n",
        "plt.legend('FA')\n",
        "plt.show()"
      ],
      "execution_count": 99,
      "outputs": [
        {
          "output_type": "display_data",
          "data": {
            "image/png": "[encoded data removed]",
            "text/plain": [
              "<matplotlib.figure.Figure at 0x7f5f74c4f710>"
            ]
          },
          "metadata": {
            "tags": []
          }
        }
      ]
    },
    {
      "metadata": {
        "id": "zxGfSy6K6oBP",
        "colab_type": "code",
        "colab": {
          "base_uri": "https://localhost:8080/",
          "height": 361
        },
        "outputId": "a8af5ca8-d680-49e7-b0c6-4b7dc223cf48"
      },
      "cell_type": "code",
      "source": [
        "plt.plot(V, CA)\n",
        "plt.xlabel('V (L)')\n",
        "plt.ylabel('CA (mol/L)')\n",
        "plt.legend('CA')\n",
        "plt.show()"
      ],
      "execution_count": 100,
      "outputs": [
        {
          "output_type": "display_data",
          "data": {
            "image/png": "[encoded data removed]",
            "text/plain": [
              "<matplotlib.figure.Figure at 0x7f5f74c47908>"
            ]
          },
          "metadata": {
            "tags": []
          }
        }
      ]
    },
    {
      "metadata": {
        "id": "FwFwavIpyvQ4",
        "colab_type": "code",
        "outputId": "f8c57db4-41dc-437d-c91f-379499b62565",
        "colab": {
          "base_uri": "https://localhost:8080/",
          "height": 35
        }
      },
      "cell_type": "code",
      "source": [
        "X[V < 50][-1] "
      ],
      "execution_count": 105,
      "outputs": [
        {
          "output_type": "execute_result",
          "data": {
            "text/plain": [
              "0.8222201479606811"
            ]
          },
          "metadata": {
            "tags": []
          },
          "execution_count": 105
        }
      ]
    },
    {
      "metadata": {
        "id": "Cd6SxWMczifu",
        "colab_type": "code",
        "colab": {
          "base_uri": "https://localhost:8080/",
          "height": 361
        },
        "outputId": "7ba4b8ee-5fef-43f1-e105-bef45ceec7d0"
      },
      "cell_type": "code",
      "source": [
        "plt.plot(V, CC)\n",
        "plt.xlabel('V (L)')\n",
        "plt.ylabel('CC (mol/L)')\n",
        "plt.legend('CC')\n",
        "plt.show()"
      ],
      "execution_count": 102,
      "outputs": [
        {
          "output_type": "display_data",
          "data": {
            "image/png": "[encoded data removed]",
            "text/plain": [
              "<matplotlib.figure.Figure at 0x7f5f74b717b8>"
            ]
          },
          "metadata": {
            "tags": []
          }
        }
      ]
    },
    {
      "metadata": {
        "id": "G9kAOVOc6_ls",
        "colab_type": "code",
        "colab": {
          "base_uri": "https://localhost:8080/",
          "height": 35
        },
        "outputId": "a52794ff-3a84-49ba-840f-b9df9b6b2a26"
      },
      "cell_type": "code",
      "source": [
        "CC[V < 50][-1] "
      ],
      "execution_count": 103,
      "outputs": [
        {
          "output_type": "execute_result",
          "data": {
            "text/plain": [
              "0.0613885029021292"
            ]
          },
          "metadata": {
            "tags": []
          },
          "execution_count": 103
        }
      ]
    },
    {
      "metadata": {
        "id": "UbzNvi1H7C4o",
        "colab_type": "code",
        "colab": {}
      },
      "cell_type": "code",
      "source": [
        ""
      ],
      "execution_count": 0,
      "outputs": []
    }
  ]
}