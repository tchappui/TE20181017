{
  "nbformat": 4,
  "nbformat_minor": 0,
  "metadata": {
    "colab": {
      "name": "exercice 3 R.Pelletier.ipynb",
      "version": "0.3.2",
      "provenance": [],
      "collapsed_sections": []
    }
  },
  "cells": [
    {
      "metadata": {
        "id": "F-XQwI-65eBP",
        "colab_type": "code",
        "colab": {}
      },
      "cell_type": "code",
      "source": [
        ""
      ],
      "execution_count": 0,
      "outputs": []
    },
    {
      "metadata": {
        "colab_type": "text",
        "id": "AnjkeSVyb2WA"
      },
      "cell_type": "markdown",
      "source": [
        "# Exercice 3\n"
      ]
    },
    {
      "metadata": {
        "colab_type": "text",
        "id": "stz9wmiIb2V_"
      },
      "cell_type": "markdown",
      "source": [
        "## Importer les outils"
      ]
    },
    {
      "metadata": {
        "colab_type": "code",
        "id": "2oyC8jmtb2V7",
        "colab": {}
      },
      "cell_type": "code",
      "source": [
        "# vecteurs et algèbre linéaire\n",
        "import numpy as np\n",
        "\n",
        "# les outils pour visualiser\n",
        "import matplotlib.pyplot as plt\n",
        "\n",
        "# le solveur\n",
        "import scipy.integrate as solveur\n"
      ],
      "execution_count": 0,
      "outputs": []
    },
    {
      "metadata": {
        "colab_type": "text",
        "id": "-wTFhl9tb2V6"
      },
      "cell_type": "markdown",
      "source": [
        "## Définir les constantes du problème"
      ]
    },
    {
      "metadata": {
        "colab_type": "code",
        "id": "BwKycG1fb2V5",
        "colab": {}
      },
      "cell_type": "code",
      "source": [
        "\n",
        "\n",
        "CA0 = 1.5 # mol/L\n",
        "CB0 = 2 # mol/L\n",
        "Vdot=10#L/min\n",
        "Fao=CA0*Vdot\n",
        "Fbo=CB0*Vdot\n",
        "Fco=0\n",
        "Fdo=0\n",
        "Feo=0\n",
        "Ffo=0"
      ],
      "execution_count": 0,
      "outputs": []
    },
    {
      "metadata": {
        "colab_type": "text",
        "id": "tNLY5MLIb2V4"
      },
      "cell_type": "markdown",
      "source": [
        "## Définir les équations à résoudre"
      ]
    },
    {
      "metadata": {
        "colab_type": "code",
        "id": "ry9-MMu6b2V1",
        "colab": {}
      },
      "cell_type": "code",
      "source": [
        "def equations(variables, V,):\n",
        "    Ca, Cb, Cc,Cd,Ce,Cf = variables\n",
        "    \n",
        "    r1=0.25*Ca*Cb\n",
        "    r2=0.1*Ca*Cd\n",
        "    r3=5*Cb*Cb*Cc\n",
        "    \n",
        "    FA=Ca*Vdot\n",
        "    FB=Cb*Vdot\n",
        "    FC=Cc*Vdot\n",
        "    FD=Cd*Vdot\n",
        "    FE=Ce*Vdot\n",
        "    FF=Cf*Vdot\n",
        "    \n",
        "    RA = -r1-3*r2\n",
        "    RB = -2*r1-r3\n",
        "    RC = r1+r2-2*r3\n",
        "    RD = r1-2*r2+r3\n",
        "    RE = r2\n",
        "    RF = r3\n",
        "    \n",
        "    dFAdt = RA\n",
        "    dFBdt = RB\n",
        "    dFCdt = RC\n",
        "    dFDdt = RD\n",
        "    dFEdt = RE\n",
        "    dFFdt = RF\n",
        "   \n",
        "    return dFAdt, dFBdt, dFCdt, dFDdt, dFEdt, dFFdt,"
      ],
      "execution_count": 0,
      "outputs": []
    },
    {
      "metadata": {
        "colab_type": "text",
        "id": "l_AbMu1Fb2Vz"
      },
      "cell_type": "markdown",
      "source": [
        "## Définir les conditions initiales"
      ]
    },
    {
      "metadata": {
        "colab_type": "code",
        "id": "fHkKCDtPb2Vv",
        "colab": {}
      },
      "cell_type": "code",
      "source": [
        "conditions_initiales = [Fao,Fbo,Fco,Fdo,Feo,Ffo] # mol/min"
      ],
      "execution_count": 0,
      "outputs": []
    },
    {
      "metadata": {
        "colab_type": "text",
        "id": "9seMPip9b2Vu"
      },
      "cell_type": "markdown",
      "source": [
        "## Résoudre le problème à l'aide du solveur"
      ]
    },
    {
      "metadata": {
        "colab_type": "code",
        "id": "Z7iJpVI3b2Vg",
        "colab": {}
      },
      "cell_type": "code",
      "source": [
        "V = np.linspace(0, 50, 51) # définir les bornes d'intégration\n",
        "\n",
        "resultats = solveur.odeint(\n",
        "    equations, \n",
        "    conditions_initiales, \n",
        "    V, \n",
        ")"
      ],
      "execution_count": 0,
      "outputs": []
    },
    {
      "metadata": {
        "colab_type": "code",
        "id": "xDwG9Kiwb2VT",
        "colab": {}
      },
      "cell_type": "code",
      "source": [
        ""
      ],
      "execution_count": 0,
      "outputs": []
    },
    {
      "metadata": {
        "colab_type": "code",
        "id": "9cYROd2Wb2VR",
        "colab": {}
      },
      "cell_type": "code",
      "source": [
        ""
      ],
      "execution_count": 0,
      "outputs": []
    },
    {
      "metadata": {
        "colab_type": "text",
        "id": "feMhFn0hb2VP"
      },
      "cell_type": "markdown",
      "source": [
        "## Visualiser les résultats"
      ]
    },
    {
      "metadata": {
        "colab_type": "code",
        "outputId": "ff4155f4-2193-46bf-84ae-aea2959d203e",
        "id": "YDE1YGkxb2VC",
        "colab": {
          "base_uri": "https://localhost:8080/",
          "height": 361
        }
      },
      "cell_type": "code",
      "source": [
        "plt.plot(V, resultats)\n",
        "plt.xlabel('V')\n",
        "plt.ylabel('Conc (mol/L)')\n",
        "plt.legend(['Ca','Cb','Cc','Cd','Ce','Cf'])\n",
        "plt.show()"
      ],
      "execution_count": 38,
      "outputs": [
        {
          "output_type": "display_data",
          "data": {
            "image/png": "[encoded data removed]",
            "text/plain": [
              "<matplotlib.figure.Figure at 0x7ff7e4fab310>"
            ]
          },
          "metadata": {
            "tags": []
          }
        }
      ]
    },
    {
      "metadata": {
        "id": "EjX7XB0vCWxm",
        "colab_type": "code",
        "colab": {
          "base_uri": "https://localhost:8080/",
          "height": 163
        },
        "outputId": "d2be5952-e417-449d-88db-0e5266d1fd4d"
      },
      "cell_type": "code",
      "source": [
        "V[resultats > 0.99][1]"
      ],
      "execution_count": 36,
      "outputs": [
        {
          "output_type": "error",
          "ename": "IndexError",
          "evalue": "ignored",
          "traceback": [
            "\u001b[0;31m\u001b[0m",
            "\u001b[0;31mIndexError\u001b[0mTraceback (most recent call last)",
            "\u001b[0;32m<ipython-input-36-c8d22bdb1da9>\u001b[0m in \u001b[0;36m<module>\u001b[0;34m()\u001b[0m\n\u001b[0;32m----> 1\u001b[0;31m \u001b[0mV\u001b[0m\u001b[0;34m[\u001b[0m\u001b[0mresultats\u001b[0m \u001b[0;34m>\u001b[0m \u001b[0;36m0.99\u001b[0m\u001b[0;34m]\u001b[0m\u001b[0;34m[\u001b[0m\u001b[0;36m1\u001b[0m\u001b[0;34m]\u001b[0m\u001b[0;34m\u001b[0m\u001b[0m\n\u001b[0m",
            "\u001b[0;31mIndexError\u001b[0m: too many indices for array"
          ]
        }
      ]
    }
  ]
}