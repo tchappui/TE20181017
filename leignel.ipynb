{
  "nbformat": 4,
  "nbformat_minor": 0,
  "metadata": {
    "colab": {
      "name": "TE_20181017_prob2-.ipynb",
      "version": "0.3.2",
      "provenance": [],
      "collapsed_sections": []
    },
    "kernelspec": {
      "name": "python3",
      "display_name": "Python 3"
    }
  },
  "cells": [
    {
      "metadata": {
        "id": "r80fs_UKpiBV",
        "colab_type": "text"
      },
      "cell_type": "markdown",
      "source": [
        "# Problème 2\n"
      ]
    },
    {
      "metadata": {
        "id": "TTNxl6BDqXUv",
        "colab_type": "text"
      },
      "cell_type": "markdown",
      "source": [
        "## Importer les outils"
      ]
    },
    {
      "metadata": {
        "id": "RGaXUbPlquAX",
        "colab_type": "code",
        "colab": {}
      },
      "cell_type": "code",
      "source": [
        "# vecteurs et algèbre linéaire\n",
        "import numpy as np\n",
        "\n",
        "# les outils pour visualiser\n",
        "import matplotlib.pyplot as plt\n",
        "\n",
        "# le solveur\n",
        "import scipy.integrate as solveur\n"
      ],
      "execution_count": 0,
      "outputs": []
    },
    {
      "metadata": {
        "id": "cS3aZXHgqD2C",
        "colab_type": "text"
      },
      "cell_type": "markdown",
      "source": [
        "## Définir les constantes du problème"
      ]
    },
    {
      "metadata": {
        "id": "bKd0VDZTsr13",
        "colab_type": "code",
        "colab": {}
      },
      "cell_type": "code",
      "source": [
        "CA0 = 1.5 # mol/l\n",
        "CB0 = 2 # mol/l\n",
        "CC0 = 0 # mol/l\n",
        "CD0 = 0 # mol/l\n",
        "CE0 = 0 # mol/l\n",
        "CF0 = 0 # mol/l\n",
        "\n",
        "FC0 = 0\n",
        "FD0 = 0\n",
        "FE0 = 0\n",
        "FF0 = 0\n",
        "Vdot = 10 # l/min"
      ],
      "execution_count": 0,
      "outputs": []
    },
    {
      "metadata": {
        "id": "bkog40-fqKeP",
        "colab_type": "text"
      },
      "cell_type": "markdown",
      "source": [
        "## Définir les équations à résoudre"
      ]
    },
    {
      "metadata": {
        "id": "-jvPApNgtSsU",
        "colab_type": "code",
        "colab": {}
      },
      "cell_type": "code",
      "source": [
        "def equations(variables, V):\n",
        "    CA, CB, CC, CD, CE, CF = variables\n",
        "  \n",
        "    \n",
        "    r1 = 0.25*CA*CB\n",
        "    r2 = 0.1*CA*CD\n",
        "    r3 = 5.0*CA**2*CC\n",
        "    \n",
        "    RA = -r1-3*r2\n",
        "    RB = -2*r1-r3\n",
        "    RC = r1+r2-2*r3\n",
        "    RD = r1-2*r2+r3\n",
        "    RE = r2\n",
        "    RF = r3\n",
        "    \n",
        "    FA0 = CA0*Vdot\n",
        "    FB0= CB0*Vdot\n",
        "    \n",
        "    dFAdV = RA\n",
        "    dFBdV = RB\n",
        "    dFCdV = RC\n",
        "    dFDdV = RD\n",
        "    dFEdV = RE\n",
        "    dFFdV = RF\n",
        "    \n",
        "    \n",
        "    return dFAdV, dFBdV, dFCdV, dFDdV, dFEdV, dFFdV"
      ],
      "execution_count": 0,
      "outputs": []
    },
    {
      "metadata": {
        "id": "9Zw-iTDSqPi1",
        "colab_type": "text"
      },
      "cell_type": "markdown",
      "source": [
        "## Définir les conditions initiales"
      ]
    },
    {
      "metadata": {
        "id": "rCSuW6FNu5Ge",
        "colab_type": "code",
        "colab": {}
      },
      "cell_type": "code",
      "source": [
        "conditions_initiales = [CA0, CB0, CC0, CD0, CE0, CF0] # mol/l"
      ],
      "execution_count": 0,
      "outputs": []
    },
    {
      "metadata": {
        "id": "meRe51WnqiDB",
        "colab_type": "text"
      },
      "cell_type": "markdown",
      "source": [
        "## Résoudre le problème à l'aide du solveur"
      ]
    },
    {
      "metadata": {
        "id": "1LY5EI7KvFqQ",
        "colab_type": "code",
        "colab": {}
      },
      "cell_type": "code",
      "source": [
        "t = np.linspace(0, 50, 51) # définir les bornes d'intégration\n",
        "\n",
        "resultats = solveur.odeint(\n",
        "    equations, \n",
        "    conditions_initiales, \n",
        "    t, \n",
        "    \n",
        ")"
      ],
      "execution_count": 0,
      "outputs": []
    },
    {
      "metadata": {
        "id": "2eWSt0o_6Px0",
        "colab_type": "code",
        "colab": {}
      },
      "cell_type": "code",
      "source": [
        "CA = resultats[:,1]\n",
        "CB = resultats[:,2]\n",
        "CC = resultats[:,3]"
      ],
      "execution_count": 0,
      "outputs": []
    },
    {
      "metadata": {
        "id": "MG3jzyMFqokZ",
        "colab_type": "text"
      },
      "cell_type": "markdown",
      "source": [
        "## Visualiser les résultats"
      ]
    },
    {
      "metadata": {
        "id": "t61vp4dhwVN6",
        "colab_type": "code",
        "outputId": "abeffcaa-dc7c-43c1-c46f-ef47d26b46db",
        "colab": {
          "base_uri": "https://localhost:8080/",
          "height": 361
        }
      },
      "cell_type": "code",
      "source": [
        "plt.plot(t, resultats)\n",
        "plt.xlabel('t')\n",
        "plt.ylabel('C')\n",
        "plt.legend(['CA', 'CB', 'CC', 'CD','CE','CF'])\n",
        "plt.show()"
      ],
      "execution_count": 106,
      "outputs": [
        {
          "output_type": "display_data",
          "data": {
            "image/png": "[encoded data removed]",
            "text/plain": [
              "<matplotlib.figure.Figure at 0x7f017e0a8438>"
            ]
          },
          "metadata": {
            "tags": []
          }
        }
      ]
    },
    {
      "metadata": {
        "id": "kOQxstc-4lBn",
        "colab_type": "code",
        "colab": {}
      },
      "cell_type": "code",
      "source": [
        ""
      ],
      "execution_count": 0,
      "outputs": []
    },
    {
      "metadata": {
        "id": "CmyY89GV5X5M",
        "colab_type": "code",
        "colab": {}
      },
      "cell_type": "code",
      "source": [
        ""
      ],
      "execution_count": 0,
      "outputs": []
    }
  ]
}