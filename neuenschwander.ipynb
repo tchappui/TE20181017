{
 "cells": [
  {
   "cell_type": "code",
   "execution_count": 1,
   "metadata": {},
   "outputs": [],
   "source": [
    "# Importer outils\n",
    "\n",
    "import numpy as np #vecteur\n",
    "\n",
    "import matplotlib.pyplot as plt #graphiques\n",
    "\n",
    "import scipy.integrate as solveur #solveur"
   ]
  },
  {
   "cell_type": "code",
   "execution_count": 2,
   "metadata": {},
   "outputs": [],
   "source": [
    "# Définir les constantes du problème\n",
    "\n",
    "Ca0 = 1.5 # mol/L\n",
    "Cb0 = 2 # mol/L\n",
    "Vdot = 10 #L/min"
   ]
  },
  {
   "cell_type": "code",
   "execution_count": 3,
   "metadata": {},
   "outputs": [],
   "source": [
    "# Définir les équations à résoudre\n",
    "\n",
    "def equations(variables, V, Ca0, Cb0, Vdot):\n",
    "    Fa, Fb, Fc, Fd, Fe, Ff = variables\n",
    "    \n",
    "    Ca = Fa / Vdot\n",
    "    Cb = Fb / Vdot\n",
    "    Cc = Fc / Vdot\n",
    "    Cd = Fd / Vdot\n",
    "    Ce = Fe / Vdot\n",
    "    Cf = Ff / Vdot\n",
    "    \n",
    "    r1 = 0.25 * Ca * Cb\n",
    "    r2 = 0.1 * Ca * Cd\n",
    "    r3 = 5.0 * Cb**2 * Cc\n",
    "    \n",
    "    dFadV = - r1 - 3*r2\n",
    "    dFbdV = - 2*r1 - r3\n",
    "    dFcdV = r1 + r2 + r3\n",
    "    dFddV = r1 - 2*r2 + r3\n",
    "    dFedV = r2\n",
    "    dFfdV = r3\n",
    "    \n",
    "    return dFadV, dFbdV, dFcdV, dFddV, dFedV, dFfdV"
   ]
  },
  {
   "cell_type": "code",
   "execution_count": 4,
   "metadata": {},
   "outputs": [],
   "source": [
    "# Définir les condition initiales\n",
    "\n",
    "conditions_initiales = [Ca0 * Vdot, Cb0 * Vdot, 0, 0, 0, 0]"
   ]
  },
  {
   "cell_type": "code",
   "execution_count": 5,
   "metadata": {},
   "outputs": [],
   "source": [
    "# Résoudre le problème à l'aide du solveur\n",
    "\n",
    "V=np.arange(0, 50, 0.1) #défini borne intégration\n",
    "resultats=solveur.odeint(\n",
    "    equations, \n",
    "    conditions_initiales,\n",
    "    V,\n",
    "    (Ca0, Cb0, Vdot) # si une seule et unique constante, il faut noter (a,)\n",
    ")"
   ]
  },
  {
   "cell_type": "code",
   "execution_count": 6,
   "metadata": {},
   "outputs": [],
   "source": [
    "Fa = resultats[:, 0] # valeur de Fa\n",
    "Fc = resultats[:, 2] # valeur de Fa"
   ]
  },
  {
   "cell_type": "code",
   "execution_count": 7,
   "metadata": {},
   "outputs": [
    {
     "data": {
      "text/plain": [
       "2.1156738270461424"
      ]
     },
     "execution_count": 7,
     "metadata": {},
     "output_type": "execute_result"
    }
   ],
   "source": [
    "Fa[-1] # valeur à 50 L"
   ]
  },
  {
   "cell_type": "code",
   "execution_count": 8,
   "metadata": {},
   "outputs": [
    {
     "data": {
      "text/plain": [
       "21.132691943251743"
      ]
     },
     "execution_count": 8,
     "metadata": {},
     "output_type": "execute_result"
    }
   ],
   "source": [
    "Fc[-1] # valeur à 50 L"
   ]
  },
  {
   "cell_type": "code",
   "execution_count": null,
   "metadata": {},
   "outputs": [],
   "source": []
  }
 ],
 "metadata": {
  "kernelspec": {
   "display_name": "Python 3",
   "language": "python",
   "name": "python3"
  },
  "language_info": {
   "codemirror_mode": {
    "name": "ipython",
    "version": 3
   },
   "file_extension": ".py",
   "mimetype": "text/x-python",
   "name": "python",
   "nbconvert_exporter": "python",
   "pygments_lexer": "ipython3",
   "version": "3.6.5"
  }
 },
 "nbformat": 4,
 "nbformat_minor": 2
}
